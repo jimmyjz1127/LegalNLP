{
 "cells": [
  {
   "cell_type": "code",
   "execution_count": 4,
   "metadata": {},
   "outputs": [
    {
     "name": "stderr",
     "output_type": "stream",
     "text": [
      "/home/jz75/Documents/2023-2024/SH-Project/CS4099-LegalNLP/pytorchenv/lib/python3.10/site-packages/tqdm/auto.py:21: TqdmWarning: IProgress not found. Please update jupyter and ipywidgets. See https://ipywidgets.readthedocs.io/en/stable/user_install.html\n",
      "  from .autonotebook import tqdm as notebook_tqdm\n"
     ]
    }
   ],
   "source": [
    "import os\n",
    "import json\n",
    "import re\n",
    "import string\n",
    "import random\n",
    "import time\n",
    "import datetime\n",
    "\n",
    "import numpy as np\n",
    "import pandas as pd\n",
    "# import matplotlib.pyplot as plt\n",
    "\n",
    "from argparse import Namespace\n",
    "from tqdm import tqdm\n",
    "\n",
    "import matplotlib.pyplot as plt \n",
    "\n",
    "from transformers import AutoTokenizer, AutoModelForSequenceClassification\n"
   ]
  },
  {
   "cell_type": "markdown",
   "metadata": {},
   "source": [
    "## Pre-process LEDGAR DATA "
   ]
  },
  {
   "cell_type": "code",
   "execution_count": 2,
   "metadata": {},
   "outputs": [],
   "source": [
    "filepath = './raw_data/summary_data/LEDGAR_2016-2019_clean.jsonl'"
   ]
  },
  {
   "cell_type": "code",
   "execution_count": 7,
   "metadata": {},
   "outputs": [],
   "source": [
    "df = pd.read_json(filepath, lines=True)\n"
   ]
  },
  {
   "cell_type": "code",
   "execution_count": 8,
   "metadata": {},
   "outputs": [
    {
     "data": {
      "text/html": [
       "<div>\n",
       "<style scoped>\n",
       "    .dataframe tbody tr th:only-of-type {\n",
       "        vertical-align: middle;\n",
       "    }\n",
       "\n",
       "    .dataframe tbody tr th {\n",
       "        vertical-align: top;\n",
       "    }\n",
       "\n",
       "    .dataframe thead th {\n",
       "        text-align: right;\n",
       "    }\n",
       "</style>\n",
       "<table border=\"1\" class=\"dataframe\">\n",
       "  <thead>\n",
       "    <tr style=\"text-align: right;\">\n",
       "      <th></th>\n",
       "      <th>provision</th>\n",
       "      <th>label</th>\n",
       "      <th>source</th>\n",
       "    </tr>\n",
       "  </thead>\n",
       "  <tbody>\n",
       "    <tr>\n",
       "      <th>0</th>\n",
       "      <td>Section and Subsection headings in this Amendm...</td>\n",
       "      <td>[headings]</td>\n",
       "      <td>2019/QTR1/000119312519044328/d691151dex101.htm</td>\n",
       "    </tr>\n",
       "    <tr>\n",
       "      <th>1</th>\n",
       "      <td>THIS AMENDMENT AND THE RIGHTS AND OBLIGATIONS ...</td>\n",
       "      <td>[applicable laws]</td>\n",
       "      <td>2019/QTR1/000119312519044328/d691151dex101.htm</td>\n",
       "    </tr>\n",
       "    <tr>\n",
       "      <th>2</th>\n",
       "      <td>This Amendment may be executed in any number o...</td>\n",
       "      <td>[counterparts]</td>\n",
       "      <td>2019/QTR1/000119312519044328/d691151dex101.htm</td>\n",
       "    </tr>\n",
       "    <tr>\n",
       "      <th>3</th>\n",
       "      <td>The execution and delivery of this Amendment b...</td>\n",
       "      <td>[binding effects]</td>\n",
       "      <td>2019/QTR1/000119312519044328/d691151dex101.htm</td>\n",
       "    </tr>\n",
       "    <tr>\n",
       "      <th>4</th>\n",
       "      <td>Each of the parties hereto irrevocably waives ...</td>\n",
       "      <td>[waiver of jury trials]</td>\n",
       "      <td>2019/QTR1/000119312519044328/d691151dex101.htm</td>\n",
       "    </tr>\n",
       "  </tbody>\n",
       "</table>\n",
       "</div>"
      ],
      "text/plain": [
       "                                           provision                    label  \\\n",
       "0  Section and Subsection headings in this Amendm...               [headings]   \n",
       "1  THIS AMENDMENT AND THE RIGHTS AND OBLIGATIONS ...        [applicable laws]   \n",
       "2  This Amendment may be executed in any number o...           [counterparts]   \n",
       "3  The execution and delivery of this Amendment b...        [binding effects]   \n",
       "4  Each of the parties hereto irrevocably waives ...  [waiver of jury trials]   \n",
       "\n",
       "                                           source  \n",
       "0  2019/QTR1/000119312519044328/d691151dex101.htm  \n",
       "1  2019/QTR1/000119312519044328/d691151dex101.htm  \n",
       "2  2019/QTR1/000119312519044328/d691151dex101.htm  \n",
       "3  2019/QTR1/000119312519044328/d691151dex101.htm  \n",
       "4  2019/QTR1/000119312519044328/d691151dex101.htm  "
      ]
     },
     "execution_count": 8,
     "metadata": {},
     "output_type": "execute_result"
    }
   ],
   "source": [
    "df.head(\n",
    ")"
   ]
  },
  {
   "cell_type": "code",
   "execution_count": 12,
   "metadata": {},
   "outputs": [
    {
     "data": {
      "text/plain": [
       "Index(['provision', 'label', 'source'], dtype='object')"
      ]
     },
     "execution_count": 12,
     "metadata": {},
     "output_type": "execute_result"
    }
   ],
   "source": [
    "df.columns"
   ]
  },
  {
   "cell_type": "code",
   "execution_count": 10,
   "metadata": {},
   "outputs": [],
   "source": [
    "tokenizer = AutoTokenizer.from_pretrained('casehold/legalbert')"
   ]
  },
  {
   "cell_type": "code",
   "execution_count": 17,
   "metadata": {},
   "outputs": [
    {
     "name": "stdout",
     "output_type": "stream",
     "text": [
      "828198\n"
     ]
    },
    {
     "data": {
      "image/png": "[encoded data removed]",
      "text/plain": [
       "<Figure size 640x480 with 1 Axes>"
      ]
     },
     "metadata": {},
     "output_type": "display_data"
    },
    {
     "data": {
      "image/png": "[encoded data removed]",
      "text/plain": [
       "<Figure size 640x480 with 1 Axes>"
      ]
     },
     "metadata": {},
     "output_type": "display_data"
    }
   ],
   "source": [
    "lengths1 = []\n",
    "lengths2 = []\n",
    "count = 0\n",
    "for idx, row in df.iterrows():\n",
    "    tokens1 = tokenizer.tokenize(row['provision'])\n",
    "    tokens2 = tokenizer.tokenize(row['label'][0])\n",
    "    lengths1.append(len(tokens1))\n",
    "    lengths2.append(len(tokens2))\n",
    "    if len(tokens1) <= 512 and len(tokens2) <= 512:\n",
    "        count += 1\n",
    "\n",
    "\n",
    "print(count)\n",
    "\n",
    "\n",
    "plt.hist(lengths1, bins=20)\n",
    "plt.show()\n",
    "\n",
    "plt.hist(lengths2, bins=15)\n",
    "plt.show()"
   ]
  },
  {
   "cell_type": "markdown",
   "metadata": {},
   "source": [
    "# Pre-process privacy Q/A \n"
   ]
  },
  {
   "cell_type": "code",
   "execution_count": 46,
   "metadata": {},
   "outputs": [
    {
     "ename": "JSONDecodeError",
     "evalue": "Extra data: line 2 column 1 (char 9189)",
     "output_type": "error",
     "traceback": [
      "\u001b[0;31m---------------------------------------------------------------------------\u001b[0m",
      "\u001b[0;31mJSONDecodeError\u001b[0m                           Traceback (most recent call last)",
      "Cell \u001b[0;32mIn[46], line 2\u001b[0m\n\u001b[1;32m      1\u001b[0m \u001b[38;5;28;01mwith\u001b[39;00m \u001b[38;5;28mopen\u001b[39m(filepath, \u001b[38;5;124m'\u001b[39m\u001b[38;5;124mr\u001b[39m\u001b[38;5;124m'\u001b[39m) \u001b[38;5;28;01mas\u001b[39;00m file:\n\u001b[0;32m----> 2\u001b[0m     json_data \u001b[38;5;241m=\u001b[39m \u001b[43mjson\u001b[49m\u001b[38;5;241;43m.\u001b[39;49m\u001b[43mload\u001b[49m\u001b[43m(\u001b[49m\u001b[43mfile\u001b[49m\u001b[43m)\u001b[49m\n\u001b[1;32m      4\u001b[0m df \u001b[38;5;241m=\u001b[39m pd\u001b[38;5;241m.\u001b[39mDataFrame\u001b[38;5;241m.\u001b[39mfrom_dict(json_data, orient\u001b[38;5;241m=\u001b[39m\u001b[38;5;124m'\u001b[39m\u001b[38;5;124mindex\u001b[39m\u001b[38;5;124m'\u001b[39m)\n\u001b[1;32m      5\u001b[0m df\u001b[38;5;241m.\u001b[39mreset_index(inplace\u001b[38;5;241m=\u001b[39m\u001b[38;5;28;01mTrue\u001b[39;00m)\n",
      "File \u001b[0;32m/usr/lib/python3.10/json/__init__.py:293\u001b[0m, in \u001b[0;36mload\u001b[0;34m(fp, cls, object_hook, parse_float, parse_int, parse_constant, object_pairs_hook, **kw)\u001b[0m\n\u001b[1;32m    274\u001b[0m \u001b[38;5;28;01mdef\u001b[39;00m \u001b[38;5;21mload\u001b[39m(fp, \u001b[38;5;241m*\u001b[39m, \u001b[38;5;28mcls\u001b[39m\u001b[38;5;241m=\u001b[39m\u001b[38;5;28;01mNone\u001b[39;00m, object_hook\u001b[38;5;241m=\u001b[39m\u001b[38;5;28;01mNone\u001b[39;00m, parse_float\u001b[38;5;241m=\u001b[39m\u001b[38;5;28;01mNone\u001b[39;00m,\n\u001b[1;32m    275\u001b[0m         parse_int\u001b[38;5;241m=\u001b[39m\u001b[38;5;28;01mNone\u001b[39;00m, parse_constant\u001b[38;5;241m=\u001b[39m\u001b[38;5;28;01mNone\u001b[39;00m, object_pairs_hook\u001b[38;5;241m=\u001b[39m\u001b[38;5;28;01mNone\u001b[39;00m, \u001b[38;5;241m*\u001b[39m\u001b[38;5;241m*\u001b[39mkw):\n\u001b[1;32m    276\u001b[0m \u001b[38;5;250m    \u001b[39m\u001b[38;5;124;03m\"\"\"Deserialize ``fp`` (a ``.read()``-supporting file-like object containing\u001b[39;00m\n\u001b[1;32m    277\u001b[0m \u001b[38;5;124;03m    a JSON document) to a Python object.\u001b[39;00m\n\u001b[1;32m    278\u001b[0m \n\u001b[0;32m   (...)\u001b[0m\n\u001b[1;32m    291\u001b[0m \u001b[38;5;124;03m    kwarg; otherwise ``JSONDecoder`` is used.\u001b[39;00m\n\u001b[1;32m    292\u001b[0m \u001b[38;5;124;03m    \"\"\"\u001b[39;00m\n\u001b[0;32m--> 293\u001b[0m     \u001b[38;5;28;01mreturn\u001b[39;00m \u001b[43mloads\u001b[49m\u001b[43m(\u001b[49m\u001b[43mfp\u001b[49m\u001b[38;5;241;43m.\u001b[39;49m\u001b[43mread\u001b[49m\u001b[43m(\u001b[49m\u001b[43m)\u001b[49m\u001b[43m,\u001b[49m\n\u001b[1;32m    294\u001b[0m \u001b[43m        \u001b[49m\u001b[38;5;28;43mcls\u001b[39;49m\u001b[38;5;241;43m=\u001b[39;49m\u001b[38;5;28;43mcls\u001b[39;49m\u001b[43m,\u001b[49m\u001b[43m \u001b[49m\u001b[43mobject_hook\u001b[49m\u001b[38;5;241;43m=\u001b[39;49m\u001b[43mobject_hook\u001b[49m\u001b[43m,\u001b[49m\n\u001b[1;32m    295\u001b[0m \u001b[43m        \u001b[49m\u001b[43mparse_float\u001b[49m\u001b[38;5;241;43m=\u001b[39;49m\u001b[43mparse_float\u001b[49m\u001b[43m,\u001b[49m\u001b[43m \u001b[49m\u001b[43mparse_int\u001b[49m\u001b[38;5;241;43m=\u001b[39;49m\u001b[43mparse_int\u001b[49m\u001b[43m,\u001b[49m\n\u001b[1;32m    296\u001b[0m \u001b[43m        \u001b[49m\u001b[43mparse_constant\u001b[49m\u001b[38;5;241;43m=\u001b[39;49m\u001b[43mparse_constant\u001b[49m\u001b[43m,\u001b[49m\u001b[43m \u001b[49m\u001b[43mobject_pairs_hook\u001b[49m\u001b[38;5;241;43m=\u001b[39;49m\u001b[43mobject_pairs_hook\u001b[49m\u001b[43m,\u001b[49m\u001b[43m \u001b[49m\u001b[38;5;241;43m*\u001b[39;49m\u001b[38;5;241;43m*\u001b[39;49m\u001b[43mkw\u001b[49m\u001b[43m)\u001b[49m\n",
      "File \u001b[0;32m/usr/lib/python3.10/json/__init__.py:346\u001b[0m, in \u001b[0;36mloads\u001b[0;34m(s, cls, object_hook, parse_float, parse_int, parse_constant, object_pairs_hook, **kw)\u001b[0m\n\u001b[1;32m    341\u001b[0m     s \u001b[38;5;241m=\u001b[39m s\u001b[38;5;241m.\u001b[39mdecode(detect_encoding(s), \u001b[38;5;124m'\u001b[39m\u001b[38;5;124msurrogatepass\u001b[39m\u001b[38;5;124m'\u001b[39m)\n\u001b[1;32m    343\u001b[0m \u001b[38;5;28;01mif\u001b[39;00m (\u001b[38;5;28mcls\u001b[39m \u001b[38;5;129;01mis\u001b[39;00m \u001b[38;5;28;01mNone\u001b[39;00m \u001b[38;5;129;01mand\u001b[39;00m object_hook \u001b[38;5;129;01mis\u001b[39;00m \u001b[38;5;28;01mNone\u001b[39;00m \u001b[38;5;129;01mand\u001b[39;00m\n\u001b[1;32m    344\u001b[0m         parse_int \u001b[38;5;129;01mis\u001b[39;00m \u001b[38;5;28;01mNone\u001b[39;00m \u001b[38;5;129;01mand\u001b[39;00m parse_float \u001b[38;5;129;01mis\u001b[39;00m \u001b[38;5;28;01mNone\u001b[39;00m \u001b[38;5;129;01mand\u001b[39;00m\n\u001b[1;32m    345\u001b[0m         parse_constant \u001b[38;5;129;01mis\u001b[39;00m \u001b[38;5;28;01mNone\u001b[39;00m \u001b[38;5;129;01mand\u001b[39;00m object_pairs_hook \u001b[38;5;129;01mis\u001b[39;00m \u001b[38;5;28;01mNone\u001b[39;00m \u001b[38;5;129;01mand\u001b[39;00m \u001b[38;5;129;01mnot\u001b[39;00m kw):\n\u001b[0;32m--> 346\u001b[0m     \u001b[38;5;28;01mreturn\u001b[39;00m \u001b[43m_default_decoder\u001b[49m\u001b[38;5;241;43m.\u001b[39;49m\u001b[43mdecode\u001b[49m\u001b[43m(\u001b[49m\u001b[43ms\u001b[49m\u001b[43m)\u001b[49m\n\u001b[1;32m    347\u001b[0m \u001b[38;5;28;01mif\u001b[39;00m \u001b[38;5;28mcls\u001b[39m \u001b[38;5;129;01mis\u001b[39;00m \u001b[38;5;28;01mNone\u001b[39;00m:\n\u001b[1;32m    348\u001b[0m     \u001b[38;5;28mcls\u001b[39m \u001b[38;5;241m=\u001b[39m JSONDecoder\n",
      "File \u001b[0;32m/usr/lib/python3.10/json/decoder.py:340\u001b[0m, in \u001b[0;36mJSONDecoder.decode\u001b[0;34m(self, s, _w)\u001b[0m\n\u001b[1;32m    338\u001b[0m end \u001b[38;5;241m=\u001b[39m _w(s, end)\u001b[38;5;241m.\u001b[39mend()\n\u001b[1;32m    339\u001b[0m \u001b[38;5;28;01mif\u001b[39;00m end \u001b[38;5;241m!=\u001b[39m \u001b[38;5;28mlen\u001b[39m(s):\n\u001b[0;32m--> 340\u001b[0m     \u001b[38;5;28;01mraise\u001b[39;00m JSONDecodeError(\u001b[38;5;124m\"\u001b[39m\u001b[38;5;124mExtra data\u001b[39m\u001b[38;5;124m\"\u001b[39m, s, end)\n\u001b[1;32m    341\u001b[0m \u001b[38;5;28;01mreturn\u001b[39;00m obj\n",
      "\u001b[0;31mJSONDecodeError\u001b[0m: Extra data: line 2 column 1 (char 9189)"
     ]
    }
   ],
   "source": [
    "with open(filepath, 'r') as file:\n",
    "    json_data = json.load(file)\n",
    "\n",
    "df = pd.DataFrame.from_dict(json_data, orient='index')\n",
    "df.reset_index(inplace=True)\n",
    "df.rename(columns={'index': 'id'}, inplace=True)"
   ]
  },
  {
   "cell_type": "code",
   "execution_count": 39,
   "metadata": {},
   "outputs": [
    {
     "data": {
      "text/html": [
       "<div>\n",
       "<style scoped>\n",
       "    .dataframe tbody tr th:only-of-type {\n",
       "        vertical-align: middle;\n",
       "    }\n",
       "\n",
       "    .dataframe tbody tr th {\n",
       "        vertical-align: top;\n",
       "    }\n",
       "\n",
       "    .dataframe thead th {\n",
       "        text-align: right;\n",
       "    }\n",
       "</style>\n",
       "<table border=\"1\" class=\"dataframe\">\n",
       "  <thead>\n",
       "    <tr style=\"text-align: right;\">\n",
       "      <th></th>\n",
       "      <th>id</th>\n",
       "      <th>case_code</th>\n",
       "      <th>case_text</th>\n",
       "      <th>doc</th>\n",
       "      <th>note</th>\n",
       "      <th>original_text</th>\n",
       "      <th>reference_summary</th>\n",
       "      <th>title_code</th>\n",
       "      <th>title_text</th>\n",
       "      <th>uid</th>\n",
       "      <th>urls</th>\n",
       "      <th>tldr_code</th>\n",
       "      <th>tldr_text</th>\n",
       "    </tr>\n",
       "  </thead>\n",
       "  <tbody>\n",
       "    <tr>\n",
       "      <th>0</th>\n",
       "      <td>tosdr001</td>\n",
       "      <td>1,s</td>\n",
       "      <td>This service does not track you</td>\n",
       "      <td>Privacy Policy</td>\n",
       "      <td></td>\n",
       "      <td>search encrypt does not track search history i...</td>\n",
       "      <td>this service does not track you.</td>\n",
       "      <td>2,s</td>\n",
       "      <td>no tracking</td>\n",
       "      <td>tosdr001</td>\n",
       "      <td>{'searchencrypt.com'}</td>\n",
       "      <td>NaN</td>\n",
       "      <td>NaN</td>\n",
       "    </tr>\n",
       "    <tr>\n",
       "      <th>1</th>\n",
       "      <td>tosdr003</td>\n",
       "      <td>2,s</td>\n",
       "      <td>The copyright license that users grant to the ...</td>\n",
       "      <td>Additional Terms of Service</td>\n",
       "      <td></td>\n",
       "      <td>rvices you grant oath the following worldwide ...</td>\n",
       "      <td>the copyright license granted to yahoo for pho...</td>\n",
       "      <td>3,d</td>\n",
       "      <td>Yahoo's copyright license for photos, graphics...</td>\n",
       "      <td>tosdr003</td>\n",
       "      <td>{'flickr.com'}</td>\n",
       "      <td>1</td>\n",
       "      <td>The copyright license granted to Yahoo for pho...</td>\n",
       "    </tr>\n",
       "    <tr>\n",
       "      <th>2</th>\n",
       "      <td>tosdr005</td>\n",
       "      <td>1,s</td>\n",
       "      <td>The service uses your personal data to employ ...</td>\n",
       "      <td>Privacy Policy</td>\n",
       "      <td></td>\n",
       "      <td>it also enables us to serve you advertising an...</td>\n",
       "      <td>the service uses your personal data to employ ...</td>\n",
       "      <td>2,d</td>\n",
       "      <td>targeted third-party advertising</td>\n",
       "      <td>tosdr005</td>\n",
       "      <td>{'academia.edu'}</td>\n",
       "      <td>NaN</td>\n",
       "      <td>NaN</td>\n",
       "    </tr>\n",
       "    <tr>\n",
       "      <th>3</th>\n",
       "      <td>tosdr008</td>\n",
       "      <td>2,s</td>\n",
       "      <td>This service does not sell your personal data</td>\n",
       "      <td>Privacy / Terms</td>\n",
       "      <td></td>\n",
       "      <td>no sale of personal information librarything w...</td>\n",
       "      <td>librarything will not sell or give personally ...</td>\n",
       "      <td>3</td>\n",
       "      <td>Will not sell your data</td>\n",
       "      <td>tosdr008</td>\n",
       "      <td>{'librarything.com'}</td>\n",
       "      <td>1</td>\n",
       "      <td>LibraryThing will not sell or give personally-...</td>\n",
       "    </tr>\n",
       "    <tr>\n",
       "      <th>4</th>\n",
       "      <td>tosdr016</td>\n",
       "      <td>1,d</td>\n",
       "      <td>The service provides details about what kinds ...</td>\n",
       "      <td>Privacy Policy</td>\n",
       "      <td>not a summary</td>\n",
       "      <td>i don t store any personally identifiable data...</td>\n",
       "      <td>the service provides details about what kinds ...</td>\n",
       "      <td>NaN</td>\n",
       "      <td>NaN</td>\n",
       "      <td>tosdr016</td>\n",
       "      <td>{'r3bl.me'}</td>\n",
       "      <td>NaN</td>\n",
       "      <td>NaN</td>\n",
       "    </tr>\n",
       "  </tbody>\n",
       "</table>\n",
       "</div>"
      ],
      "text/plain": [
       "         id case_code                                          case_text  \\\n",
       "0  tosdr001       1,s                    This service does not track you   \n",
       "1  tosdr003       2,s  The copyright license that users grant to the ...   \n",
       "2  tosdr005       1,s  The service uses your personal data to employ ...   \n",
       "3  tosdr008       2,s      This service does not sell your personal data   \n",
       "4  tosdr016       1,d  The service provides details about what kinds ...   \n",
       "\n",
       "                           doc           note  \\\n",
       "0               Privacy Policy                  \n",
       "1  Additional Terms of Service                  \n",
       "2               Privacy Policy                  \n",
       "3              Privacy / Terms                  \n",
       "4               Privacy Policy  not a summary   \n",
       "\n",
       "                                       original_text  \\\n",
       "0  search encrypt does not track search history i...   \n",
       "1  rvices you grant oath the following worldwide ...   \n",
       "2  it also enables us to serve you advertising an...   \n",
       "3  no sale of personal information librarything w...   \n",
       "4  i don t store any personally identifiable data...   \n",
       "\n",
       "                                   reference_summary title_code  \\\n",
       "0                   this service does not track you.        2,s   \n",
       "1  the copyright license granted to yahoo for pho...        3,d   \n",
       "2  the service uses your personal data to employ ...        2,d   \n",
       "3  librarything will not sell or give personally ...          3   \n",
       "4  the service provides details about what kinds ...        NaN   \n",
       "\n",
       "                                          title_text       uid  \\\n",
       "0                                        no tracking  tosdr001   \n",
       "1  Yahoo's copyright license for photos, graphics...  tosdr003   \n",
       "2                   targeted third-party advertising  tosdr005   \n",
       "3                            Will not sell your data  tosdr008   \n",
       "4                                                NaN  tosdr016   \n",
       "\n",
       "                    urls tldr_code  \\\n",
       "0  {'searchencrypt.com'}       NaN   \n",
       "1         {'flickr.com'}         1   \n",
       "2       {'academia.edu'}       NaN   \n",
       "3   {'librarything.com'}         1   \n",
       "4            {'r3bl.me'}       NaN   \n",
       "\n",
       "                                           tldr_text  \n",
       "0                                                NaN  \n",
       "1  The copyright license granted to Yahoo for pho...  \n",
       "2                                                NaN  \n",
       "3  LibraryThing will not sell or give personally-...  \n",
       "4                                                NaN  "
      ]
     },
     "execution_count": 39,
     "metadata": {},
     "output_type": "execute_result"
    }
   ],
   "source": [
    "df.head()"
   ]
  },
  {
   "cell_type": "code",
   "execution_count": 40,
   "metadata": {},
   "outputs": [
    {
     "data": {
      "image/png": "[encoded data removed]",
      "text/plain": [
       "<Figure size 640x480 with 1 Axes>"
      ]
     },
     "metadata": {},
     "output_type": "display_data"
    }
   ],
   "source": [
    "lengths = []\n",
    "\n",
    "for idx, row in df.iterrows():\n",
    "    lengths.append(len(row.loc['original_text']))\n",
    "\n",
    "plt.hist(lengths, bins = 15)\n",
    "plt.show()\n"
   ]
  },
  {
   "cell_type": "code",
   "execution_count": 41,
   "metadata": {},
   "outputs": [
    {
     "name": "stdout",
     "output_type": "stream",
     "text": [
      "361\n"
     ]
    }
   ],
   "source": [
    "print(len(df))"
   ]
  },
  {
   "cell_type": "code",
   "execution_count": 30,
   "metadata": {},
   "outputs": [],
   "source": [
    "df = pd.read_csv('./raw_data/privacy_policy/policy_train_data.csv', sep='\\t')"
   ]
  },
  {
   "cell_type": "code",
   "execution_count": 31,
   "metadata": {},
   "outputs": [
    {
     "data": {
      "text/html": [
       "<div>\n",
       "<style scoped>\n",
       "    .dataframe tbody tr th:only-of-type {\n",
       "        vertical-align: middle;\n",
       "    }\n",
       "\n",
       "    .dataframe tbody tr th {\n",
       "        vertical-align: top;\n",
       "    }\n",
       "\n",
       "    .dataframe thead th {\n",
       "        text-align: right;\n",
       "    }\n",
       "</style>\n",
       "<table border=\"1\" class=\"dataframe\">\n",
       "  <thead>\n",
       "    <tr style=\"text-align: right;\">\n",
       "      <th></th>\n",
       "      <th>Folder</th>\n",
       "      <th>DocID</th>\n",
       "      <th>QueryID</th>\n",
       "      <th>SentID</th>\n",
       "      <th>Split</th>\n",
       "      <th>Query</th>\n",
       "      <th>Segment</th>\n",
       "      <th>Label</th>\n",
       "    </tr>\n",
       "  </thead>\n",
       "  <tbody>\n",
       "    <tr>\n",
       "      <th>0</th>\n",
       "      <td>../../Dataset/Train/com.cake.browser</td>\n",
       "      <td>Cake Web Browser _1</td>\n",
       "      <td>Cake Web Browser _1_0</td>\n",
       "      <td>Cake Web Browser _1_0_0</td>\n",
       "      <td>train</td>\n",
       "      <td>do you keep the data of mine and upload to you...</td>\n",
       "      <td>This privacy policy, with our Terms of Servic...</td>\n",
       "      <td>Irrelevant</td>\n",
       "    </tr>\n",
       "    <tr>\n",
       "      <th>1</th>\n",
       "      <td>../../Dataset/Train/com.cake.browser</td>\n",
       "      <td>Cake Web Browser _1</td>\n",
       "      <td>Cake Web Browser _1_0</td>\n",
       "      <td>Cake Web Browser _1_0_1</td>\n",
       "      <td>train</td>\n",
       "      <td>do you keep the data of mine and upload to you...</td>\n",
       "      <td>We encourage you to read this privacy policy c...</td>\n",
       "      <td>Irrelevant</td>\n",
       "    </tr>\n",
       "    <tr>\n",
       "      <th>2</th>\n",
       "      <td>../../Dataset/Train/com.cake.browser</td>\n",
       "      <td>Cake Web Browser _1</td>\n",
       "      <td>Cake Web Browser _1_0</td>\n",
       "      <td>Cake Web Browser _1_0_2</td>\n",
       "      <td>train</td>\n",
       "      <td>do you keep the data of mine and upload to you...</td>\n",
       "      <td>By using our application or other online servi...</td>\n",
       "      <td>Irrelevant</td>\n",
       "    </tr>\n",
       "    <tr>\n",
       "      <th>3</th>\n",
       "      <td>../../Dataset/Train/com.cake.browser</td>\n",
       "      <td>Cake Web Browser _1</td>\n",
       "      <td>Cake Web Browser _1_0</td>\n",
       "      <td>Cake Web Browser _1_0_3</td>\n",
       "      <td>train</td>\n",
       "      <td>do you keep the data of mine and upload to you...</td>\n",
       "      <td>When we post changes to this privacy policy, ...</td>\n",
       "      <td>Irrelevant</td>\n",
       "    </tr>\n",
       "    <tr>\n",
       "      <th>4</th>\n",
       "      <td>../../Dataset/Train/com.cake.browser</td>\n",
       "      <td>Cake Web Browser _1</td>\n",
       "      <td>Cake Web Browser _1_0</td>\n",
       "      <td>Cake Web Browser _1_0_4</td>\n",
       "      <td>train</td>\n",
       "      <td>do you keep the data of mine and upload to you...</td>\n",
       "      <td>We encourage you to review this privacy policy...</td>\n",
       "      <td>Irrelevant</td>\n",
       "    </tr>\n",
       "  </tbody>\n",
       "</table>\n",
       "</div>"
      ],
      "text/plain": [
       "                                 Folder                DocID  \\\n",
       "0  ../../Dataset/Train/com.cake.browser  Cake Web Browser _1   \n",
       "1  ../../Dataset/Train/com.cake.browser  Cake Web Browser _1   \n",
       "2  ../../Dataset/Train/com.cake.browser  Cake Web Browser _1   \n",
       "3  ../../Dataset/Train/com.cake.browser  Cake Web Browser _1   \n",
       "4  ../../Dataset/Train/com.cake.browser  Cake Web Browser _1   \n",
       "\n",
       "                 QueryID                   SentID  Split  \\\n",
       "0  Cake Web Browser _1_0  Cake Web Browser _1_0_0  train   \n",
       "1  Cake Web Browser _1_0  Cake Web Browser _1_0_1  train   \n",
       "2  Cake Web Browser _1_0  Cake Web Browser _1_0_2  train   \n",
       "3  Cake Web Browser _1_0  Cake Web Browser _1_0_3  train   \n",
       "4  Cake Web Browser _1_0  Cake Web Browser _1_0_4  train   \n",
       "\n",
       "                                               Query  \\\n",
       "0  do you keep the data of mine and upload to you...   \n",
       "1  do you keep the data of mine and upload to you...   \n",
       "2  do you keep the data of mine and upload to you...   \n",
       "3  do you keep the data of mine and upload to you...   \n",
       "4  do you keep the data of mine and upload to you...   \n",
       "\n",
       "                                             Segment       Label  \n",
       "0   This privacy policy, with our Terms of Servic...  Irrelevant  \n",
       "1  We encourage you to read this privacy policy c...  Irrelevant  \n",
       "2  By using our application or other online servi...  Irrelevant  \n",
       "3   When we post changes to this privacy policy, ...  Irrelevant  \n",
       "4  We encourage you to review this privacy policy...  Irrelevant  "
      ]
     },
     "execution_count": 31,
     "metadata": {},
     "output_type": "execute_result"
    }
   ],
   "source": [
    "df.head()"
   ]
  },
  {
   "cell_type": "code",
   "execution_count": 34,
   "metadata": {},
   "outputs": [
    {
     "data": {
      "image/png": "[encoded data removed]",
      "text/plain": [
       "<Figure size 640x480 with 1 Axes>"
      ]
     },
     "metadata": {},
     "output_type": "display_data"
    }
   ],
   "source": [
    "lengths = []\n",
    "for idx, row in df.iterrows():\n",
    "    lengths.append(len(row['Query']))\n",
    "\n",
    "plt.hist(lengths, bins=15)\n",
    "plt.show()"
   ]
  },
  {
   "cell_type": "code",
   "execution_count": 35,
   "metadata": {},
   "outputs": [
    {
     "name": "stdout",
     "output_type": "stream",
     "text": [
      "185200\n"
     ]
    }
   ],
   "source": [
    "print(len(df))"
   ]
  },
  {
   "cell_type": "code",
   "execution_count": null,
   "metadata": {},
   "outputs": [],
   "source": []
  }
 ],
 "metadata": {
  "kernelspec": {
   "display_name": "pytorchenv",
   "language": "python",
   "name": "python3"
  },
  "language_info": {
   "codemirror_mode": {
    "name": "ipython",
    "version": 3
   },
   "file_extension": ".py",
   "mimetype": "text/x-python",
   "name": "python",
   "nbconvert_exporter": "python",
   "pygments_lexer": "ipython3",
   "version": "3.10.12"
  }
 },
 "nbformat": 4,
 "nbformat_minor": 2
}
