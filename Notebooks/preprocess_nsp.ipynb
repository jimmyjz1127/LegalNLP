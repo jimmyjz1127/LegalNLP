{
 "cells": [
  {
   "cell_type": "code",
   "execution_count": 3,
   "metadata": {},
   "outputs": [],
   "source": [
    "import os\n",
    "import json\n",
    "import re\n",
    "import string\n",
    "import random\n",
    "import time\n",
    "import datetime\n",
    "\n",
    "import numpy as np\n",
    "import pandas as pd\n",
    "# import matplotlib.pyplot as plt\n",
    "\n",
    "from argparse import Namespace\n",
    "from tqdm import tqdm\n",
    "\n",
    "import matplotlib.pyplot as plt \n",
    "\n",
    "from transformers import AutoTokenizer, AutoModelForSequenceClassification\n"
   ]
  },
  {
   "cell_type": "code",
   "execution_count": null,
   "metadata": {},
   "outputs": [],
   "source": [
    "df = pd.read_csv('./processed_data/sentences,csv')\n",
    "print(len(df))"
   ]
  },
  {
   "cell_type": "markdown",
   "metadata": {},
   "source": [
    "## Pre-process LEDGAR DATA "
   ]
  },
  {
   "cell_type": "code",
   "execution_count": 1,
   "metadata": {},
   "outputs": [],
   "source": [
    "filepath = './processed_data/LEDGAR_2016-2019_clean.jsonl'"
   ]
  },
  {
   "cell_type": "code",
   "execution_count": 6,
   "metadata": {},
   "outputs": [],
   "source": [
    "ledg_df = pd.read_json(filepath, lines=True)[0:15000]\n"
   ]
  },
  {
   "cell_type": "code",
   "execution_count": 7,
   "metadata": {},
   "outputs": [
    {
     "name": "stdout",
     "output_type": "stream",
     "text": [
      "4459\n"
     ]
    }
   ],
   "source": [
    "unique_topics = set(topic for sublist in ledg_df['label'] for topic in sublist)\n",
    "num_unique_topics = len(unique_topics)\n",
    "print(num_unique_topics)"
   ]
  },
  {
   "cell_type": "code",
   "execution_count": 21,
   "metadata": {},
   "outputs": [],
   "source": [
    "x = ledg_df['source'].tolist()\n",
    "x.reverse()"
   ]
  },
  {
   "cell_type": "code",
   "execution_count": 22,
   "metadata": {},
   "outputs": [
    {
     "data": {
      "text/plain": [
       "list"
      ]
     },
     "execution_count": 22,
     "metadata": {},
     "output_type": "execute_result"
    }
   ],
   "source": [
    "type(list(x))"
   ]
  },
  {
   "cell_type": "code",
   "execution_count": null,
   "metadata": {},
   "outputs": [],
   "source": [
    "sorted_array = {}"
   ]
  },
  {
   "cell_type": "code",
   "execution_count": 75,
   "metadata": {},
   "outputs": [],
   "source": [
    "ledg_df['label'] = ledg_df['label'].str[0]"
   ]
  },
  {
   "cell_type": "code",
   "execution_count": 76,
   "metadata": {},
   "outputs": [
    {
     "data": {
      "text/html": [
       "<div>\n",
       "<style scoped>\n",
       "    .dataframe tbody tr th:only-of-type {\n",
       "        vertical-align: middle;\n",
       "    }\n",
       "\n",
       "    .dataframe tbody tr th {\n",
       "        vertical-align: top;\n",
       "    }\n",
       "\n",
       "    .dataframe thead th {\n",
       "        text-align: right;\n",
       "    }\n",
       "</style>\n",
       "<table border=\"1\" class=\"dataframe\">\n",
       "  <thead>\n",
       "    <tr style=\"text-align: right;\">\n",
       "      <th></th>\n",
       "      <th>provision</th>\n",
       "      <th>label</th>\n",
       "      <th>source</th>\n",
       "    </tr>\n",
       "  </thead>\n",
       "  <tbody>\n",
       "    <tr>\n",
       "      <th>0</th>\n",
       "      <td>Section and Subsection headings in this Amendm...</td>\n",
       "      <td>headings</td>\n",
       "      <td>2019/QTR1/000119312519044328/d691151dex101.htm</td>\n",
       "    </tr>\n",
       "    <tr>\n",
       "      <th>1</th>\n",
       "      <td>THIS AMENDMENT AND THE RIGHTS AND OBLIGATIONS ...</td>\n",
       "      <td>applicable laws</td>\n",
       "      <td>2019/QTR1/000119312519044328/d691151dex101.htm</td>\n",
       "    </tr>\n",
       "    <tr>\n",
       "      <th>2</th>\n",
       "      <td>This Amendment may be executed in any number o...</td>\n",
       "      <td>counterparts</td>\n",
       "      <td>2019/QTR1/000119312519044328/d691151dex101.htm</td>\n",
       "    </tr>\n",
       "    <tr>\n",
       "      <th>3</th>\n",
       "      <td>The execution and delivery of this Amendment b...</td>\n",
       "      <td>binding effects</td>\n",
       "      <td>2019/QTR1/000119312519044328/d691151dex101.htm</td>\n",
       "    </tr>\n",
       "    <tr>\n",
       "      <th>4</th>\n",
       "      <td>Each of the parties hereto irrevocably waives ...</td>\n",
       "      <td>waiver of jury trials</td>\n",
       "      <td>2019/QTR1/000119312519044328/d691151dex101.htm</td>\n",
       "    </tr>\n",
       "  </tbody>\n",
       "</table>\n",
       "</div>"
      ],
      "text/plain": [
       "                                           provision                  label  \\\n",
       "0  Section and Subsection headings in this Amendm...               headings   \n",
       "1  THIS AMENDMENT AND THE RIGHTS AND OBLIGATIONS ...        applicable laws   \n",
       "2  This Amendment may be executed in any number o...           counterparts   \n",
       "3  The execution and delivery of this Amendment b...        binding effects   \n",
       "4  Each of the parties hereto irrevocably waives ...  waiver of jury trials   \n",
       "\n",
       "                                           source  \n",
       "0  2019/QTR1/000119312519044328/d691151dex101.htm  \n",
       "1  2019/QTR1/000119312519044328/d691151dex101.htm  \n",
       "2  2019/QTR1/000119312519044328/d691151dex101.htm  \n",
       "3  2019/QTR1/000119312519044328/d691151dex101.htm  \n",
       "4  2019/QTR1/000119312519044328/d691151dex101.htm  "
      ]
     },
     "execution_count": 76,
     "metadata": {},
     "output_type": "execute_result"
    }
   ],
   "source": [
    "ledg_df.head()"
   ]
  },
  {
   "cell_type": "code",
   "execution_count": null,
   "metadata": {},
   "outputs": [],
   "source": []
  },
  {
   "cell_type": "code",
   "execution_count": 77,
   "metadata": {},
   "outputs": [],
   "source": [
    "ledg_df.to_csv('ir_data.csv')"
   ]
  },
  {
   "cell_type": "code",
   "execution_count": 8,
   "metadata": {},
   "outputs": [
    {
     "data": {
      "text/html": [
       "<div>\n",
       "<style scoped>\n",
       "    .dataframe tbody tr th:only-of-type {\n",
       "        vertical-align: middle;\n",
       "    }\n",
       "\n",
       "    .dataframe tbody tr th {\n",
       "        vertical-align: top;\n",
       "    }\n",
       "\n",
       "    .dataframe thead th {\n",
       "        text-align: right;\n",
       "    }\n",
       "</style>\n",
       "<table border=\"1\" class=\"dataframe\">\n",
       "  <thead>\n",
       "    <tr style=\"text-align: right;\">\n",
       "      <th></th>\n",
       "      <th>provision</th>\n",
       "      <th>label</th>\n",
       "      <th>source</th>\n",
       "    </tr>\n",
       "  </thead>\n",
       "  <tbody>\n",
       "    <tr>\n",
       "      <th>0</th>\n",
       "      <td>Section and Subsection headings in this Amendm...</td>\n",
       "      <td>[headings]</td>\n",
       "      <td>2019/QTR1/000119312519044328/d691151dex101.htm</td>\n",
       "    </tr>\n",
       "    <tr>\n",
       "      <th>1</th>\n",
       "      <td>THIS AMENDMENT AND THE RIGHTS AND OBLIGATIONS ...</td>\n",
       "      <td>[applicable laws]</td>\n",
       "      <td>2019/QTR1/000119312519044328/d691151dex101.htm</td>\n",
       "    </tr>\n",
       "    <tr>\n",
       "      <th>2</th>\n",
       "      <td>This Amendment may be executed in any number o...</td>\n",
       "      <td>[counterparts]</td>\n",
       "      <td>2019/QTR1/000119312519044328/d691151dex101.htm</td>\n",
       "    </tr>\n",
       "    <tr>\n",
       "      <th>3</th>\n",
       "      <td>The execution and delivery of this Amendment b...</td>\n",
       "      <td>[binding effects]</td>\n",
       "      <td>2019/QTR1/000119312519044328/d691151dex101.htm</td>\n",
       "    </tr>\n",
       "    <tr>\n",
       "      <th>4</th>\n",
       "      <td>Each of the parties hereto irrevocably waives ...</td>\n",
       "      <td>[waiver of jury trials]</td>\n",
       "      <td>2019/QTR1/000119312519044328/d691151dex101.htm</td>\n",
       "    </tr>\n",
       "  </tbody>\n",
       "</table>\n",
       "</div>"
      ],
      "text/plain": [
       "                                           provision                    label  \\\n",
       "0  Section and Subsection headings in this Amendm...               [headings]   \n",
       "1  THIS AMENDMENT AND THE RIGHTS AND OBLIGATIONS ...        [applicable laws]   \n",
       "2  This Amendment may be executed in any number o...           [counterparts]   \n",
       "3  The execution and delivery of this Amendment b...        [binding effects]   \n",
       "4  Each of the parties hereto irrevocably waives ...  [waiver of jury trials]   \n",
       "\n",
       "                                           source  \n",
       "0  2019/QTR1/000119312519044328/d691151dex101.htm  \n",
       "1  2019/QTR1/000119312519044328/d691151dex101.htm  \n",
       "2  2019/QTR1/000119312519044328/d691151dex101.htm  \n",
       "3  2019/QTR1/000119312519044328/d691151dex101.htm  \n",
       "4  2019/QTR1/000119312519044328/d691151dex101.htm  "
      ]
     },
     "execution_count": 8,
     "metadata": {},
     "output_type": "execute_result"
    }
   ],
   "source": [
    "ledg_df.head()"
   ]
  },
  {
   "cell_type": "code",
   "execution_count": 12,
   "metadata": {},
   "outputs": [
    {
     "data": {
      "text/plain": [
       "Index(['provision', 'label', 'source'], dtype='object')"
      ]
     },
     "execution_count": 12,
     "metadata": {},
     "output_type": "execute_result"
    }
   ],
   "source": [
    "ledg_df.columns"
   ]
  },
  {
   "cell_type": "code",
   "execution_count": 10,
   "metadata": {},
   "outputs": [],
   "source": [
    "tokenizer = AutoTokenizer.from_pretrained('casehold/legalbert')"
   ]
  },
  {
   "cell_type": "code",
   "execution_count": 17,
   "metadata": {},
   "outputs": [
    {
     "name": "stdout",
     "output_type": "stream",
     "text": [
      "828198\n"
     ]
    },
    {
     "data": {
      "image/png": "[encoded data removed]",
      "text/plain": [
       "<Figure size 640x480 with 1 Axes>"
      ]
     },
     "metadata": {},
     "output_type": "display_data"
    },
    {
     "data": {
      "image/png": "[encoded data removed]",
      "text/plain": [
       "<Figure size 640x480 with 1 Axes>"
      ]
     },
     "metadata": {},
     "output_type": "display_data"
    }
   ],
   "source": [
    "lengths1 = []\n",
    "lengths2 = []\n",
    "count = 0\n",
    "for idx, row in ledg_df.iterrows():\n",
    "    tokens1 = tokenizer.tokenize(row['provision'])\n",
    "    tokens2 = tokenizer.tokenize(row['label'][0])\n",
    "    lengths1.append(len(tokens1))\n",
    "    lengths2.append(len(tokens2))\n",
    "    if len(tokens1) <= 512 and len(tokens2) <= 512:\n",
    "        count += 1\n",
    "\n",
    "\n",
    "print(count) \n",
    "\n",
    "\n",
    "plt.hist(lengths1, bins=20)\n",
    "plt.show()\n",
    "\n",
    "plt.hist(lengths2, bins=15)\n",
    "plt.show()"
   ]
  },
  {
   "cell_type": "markdown",
   "metadata": {},
   "source": [
    "# Pre-process privacy Q/A \n"
   ]
  },
  {
   "cell_type": "code",
   "execution_count": 26,
   "metadata": {},
   "outputs": [],
   "source": [
    "qa_df = pd.read_csv('./raw_data/ir_data/privacy_policy/policy_train_data.csv', sep='\\t')"
   ]
  },
  {
   "cell_type": "code",
   "execution_count": 31,
   "metadata": {},
   "outputs": [
    {
     "data": {
      "text/html": [
       "<div>\n",
       "<style scoped>\n",
       "    .dataframe tbody tr th:only-of-type {\n",
       "        vertical-align: middle;\n",
       "    }\n",
       "\n",
       "    .dataframe tbody tr th {\n",
       "        vertical-align: top;\n",
       "    }\n",
       "\n",
       "    .dataframe thead th {\n",
       "        text-align: right;\n",
       "    }\n",
       "</style>\n",
       "<table border=\"1\" class=\"dataframe\">\n",
       "  <thead>\n",
       "    <tr style=\"text-align: right;\">\n",
       "      <th></th>\n",
       "      <th>Folder</th>\n",
       "      <th>DocID</th>\n",
       "      <th>QueryID</th>\n",
       "      <th>SentID</th>\n",
       "      <th>Split</th>\n",
       "      <th>Query</th>\n",
       "      <th>Segment</th>\n",
       "      <th>Label</th>\n",
       "    </tr>\n",
       "  </thead>\n",
       "  <tbody>\n",
       "    <tr>\n",
       "      <th>0</th>\n",
       "      <td>../../Dataset/Train/com.cake.browser</td>\n",
       "      <td>Cake Web Browser _1</td>\n",
       "      <td>Cake Web Browser _1_0</td>\n",
       "      <td>Cake Web Browser _1_0_0</td>\n",
       "      <td>train</td>\n",
       "      <td>do you keep the data of mine and upload to you...</td>\n",
       "      <td>This privacy policy, with our Terms of Servic...</td>\n",
       "      <td>Irrelevant</td>\n",
       "    </tr>\n",
       "    <tr>\n",
       "      <th>1</th>\n",
       "      <td>../../Dataset/Train/com.cake.browser</td>\n",
       "      <td>Cake Web Browser _1</td>\n",
       "      <td>Cake Web Browser _1_0</td>\n",
       "      <td>Cake Web Browser _1_0_1</td>\n",
       "      <td>train</td>\n",
       "      <td>do you keep the data of mine and upload to you...</td>\n",
       "      <td>We encourage you to read this privacy policy c...</td>\n",
       "      <td>Irrelevant</td>\n",
       "    </tr>\n",
       "    <tr>\n",
       "      <th>2</th>\n",
       "      <td>../../Dataset/Train/com.cake.browser</td>\n",
       "      <td>Cake Web Browser _1</td>\n",
       "      <td>Cake Web Browser _1_0</td>\n",
       "      <td>Cake Web Browser _1_0_2</td>\n",
       "      <td>train</td>\n",
       "      <td>do you keep the data of mine and upload to you...</td>\n",
       "      <td>By using our application or other online servi...</td>\n",
       "      <td>Irrelevant</td>\n",
       "    </tr>\n",
       "    <tr>\n",
       "      <th>3</th>\n",
       "      <td>../../Dataset/Train/com.cake.browser</td>\n",
       "      <td>Cake Web Browser _1</td>\n",
       "      <td>Cake Web Browser _1_0</td>\n",
       "      <td>Cake Web Browser _1_0_3</td>\n",
       "      <td>train</td>\n",
       "      <td>do you keep the data of mine and upload to you...</td>\n",
       "      <td>When we post changes to this privacy policy, ...</td>\n",
       "      <td>Irrelevant</td>\n",
       "    </tr>\n",
       "    <tr>\n",
       "      <th>4</th>\n",
       "      <td>../../Dataset/Train/com.cake.browser</td>\n",
       "      <td>Cake Web Browser _1</td>\n",
       "      <td>Cake Web Browser _1_0</td>\n",
       "      <td>Cake Web Browser _1_0_4</td>\n",
       "      <td>train</td>\n",
       "      <td>do you keep the data of mine and upload to you...</td>\n",
       "      <td>We encourage you to review this privacy policy...</td>\n",
       "      <td>Irrelevant</td>\n",
       "    </tr>\n",
       "  </tbody>\n",
       "</table>\n",
       "</div>"
      ],
      "text/plain": [
       "                                 Folder                DocID  \\\n",
       "0  ../../Dataset/Train/com.cake.browser  Cake Web Browser _1   \n",
       "1  ../../Dataset/Train/com.cake.browser  Cake Web Browser _1   \n",
       "2  ../../Dataset/Train/com.cake.browser  Cake Web Browser _1   \n",
       "3  ../../Dataset/Train/com.cake.browser  Cake Web Browser _1   \n",
       "4  ../../Dataset/Train/com.cake.browser  Cake Web Browser _1   \n",
       "\n",
       "                 QueryID                   SentID  Split  \\\n",
       "0  Cake Web Browser _1_0  Cake Web Browser _1_0_0  train   \n",
       "1  Cake Web Browser _1_0  Cake Web Browser _1_0_1  train   \n",
       "2  Cake Web Browser _1_0  Cake Web Browser _1_0_2  train   \n",
       "3  Cake Web Browser _1_0  Cake Web Browser _1_0_3  train   \n",
       "4  Cake Web Browser _1_0  Cake Web Browser _1_0_4  train   \n",
       "\n",
       "                                               Query  \\\n",
       "0  do you keep the data of mine and upload to you...   \n",
       "1  do you keep the data of mine and upload to you...   \n",
       "2  do you keep the data of mine and upload to you...   \n",
       "3  do you keep the data of mine and upload to you...   \n",
       "4  do you keep the data of mine and upload to you...   \n",
       "\n",
       "                                             Segment       Label  \n",
       "0   This privacy policy, with our Terms of Servic...  Irrelevant  \n",
       "1  We encourage you to read this privacy policy c...  Irrelevant  \n",
       "2  By using our application or other online servi...  Irrelevant  \n",
       "3   When we post changes to this privacy policy, ...  Irrelevant  \n",
       "4  We encourage you to review this privacy policy...  Irrelevant  "
      ]
     },
     "execution_count": 31,
     "metadata": {},
     "output_type": "execute_result"
    }
   ],
   "source": [
    "qa_df.head()"
   ]
  },
  {
   "cell_type": "code",
   "execution_count": 23,
   "metadata": {},
   "outputs": [
    {
     "data": {
      "image/png": "[encoded data removed]",
      "text/plain": [
       "<Figure size 640x480 with 1 Axes>"
      ]
     },
     "metadata": {},
     "output_type": "display_data"
    }
   ],
   "source": [
    "lengths = []\n",
    "for idx, row in qa_df.iterrows():\n",
    "    lengths.append(len(row['Segment']))\n",
    "\n",
    "plt.hist(lengths, bins=15)\n",
    "plt.show()"
   ]
  },
  {
   "cell_type": "code",
   "execution_count": 35,
   "metadata": {},
   "outputs": [
    {
     "name": "stdout",
     "output_type": "stream",
     "text": [
      "185200\n"
     ]
    }
   ],
   "source": [
    "print(len(qa_df))"
   ]
  },
  {
   "cell_type": "markdown",
   "metadata": {},
   "source": [
    "## Casehgold DF"
   ]
  },
  {
   "cell_type": "code",
   "execution_count": 26,
   "metadata": {},
   "outputs": [],
   "source": [
    "df = pd.read_csv('./processed_data/casehold_processed.csv')"
   ]
  },
  {
   "cell_type": "code",
   "execution_count": 27,
   "metadata": {},
   "outputs": [
    {
     "data": {
      "text/html": [
       "<div>\n",
       "<style scoped>\n",
       "    .dataframe tbody tr th:only-of-type {\n",
       "        vertical-align: middle;\n",
       "    }\n",
       "\n",
       "    .dataframe tbody tr th {\n",
       "        vertical-align: top;\n",
       "    }\n",
       "\n",
       "    .dataframe thead th {\n",
       "        text-align: right;\n",
       "    }\n",
       "</style>\n",
       "<table border=\"1\" class=\"dataframe\">\n",
       "  <thead>\n",
       "    <tr style=\"text-align: right;\">\n",
       "      <th></th>\n",
       "      <th>Unnamed: 0</th>\n",
       "      <th>context</th>\n",
       "      <th>holding</th>\n",
       "      <th>binary_label</th>\n",
       "      <th>relevance_label</th>\n",
       "    </tr>\n",
       "  </thead>\n",
       "  <tbody>\n",
       "    <tr>\n",
       "      <th>0</th>\n",
       "      <td>0</td>\n",
       "      <td>Drapeau’s cohorts, the cohort would be a “vict...</td>\n",
       "      <td>holding that possession of a pipe bomb is a cr...</td>\n",
       "      <td>1</td>\n",
       "      <td>1.000</td>\n",
       "    </tr>\n",
       "    <tr>\n",
       "      <th>1</th>\n",
       "      <td>1</td>\n",
       "      <td>Drapeau’s cohorts, the cohort would be a “vict...</td>\n",
       "      <td>holding that bank robbery by force and violenc...</td>\n",
       "      <td>0</td>\n",
       "      <td>0.652</td>\n",
       "    </tr>\n",
       "    <tr>\n",
       "      <th>2</th>\n",
       "      <td>2</td>\n",
       "      <td>Drapeau’s cohorts, the cohort would be a “vict...</td>\n",
       "      <td>holding that sexual assault of a child qualifi...</td>\n",
       "      <td>0</td>\n",
       "      <td>0.647</td>\n",
       "    </tr>\n",
       "    <tr>\n",
       "      <th>3</th>\n",
       "      <td>3</td>\n",
       "      <td>Drapeau’s cohorts, the cohort would be a “vict...</td>\n",
       "      <td>holding for the purposes of 18 usc  924e that ...</td>\n",
       "      <td>0</td>\n",
       "      <td>0.670</td>\n",
       "    </tr>\n",
       "    <tr>\n",
       "      <th>4</th>\n",
       "      <td>4</td>\n",
       "      <td>Drapeau’s cohorts, the cohort would be a “vict...</td>\n",
       "      <td>holding that a court must only look to the sta...</td>\n",
       "      <td>0</td>\n",
       "      <td>0.639</td>\n",
       "    </tr>\n",
       "  </tbody>\n",
       "</table>\n",
       "</div>"
      ],
      "text/plain": [
       "   Unnamed: 0                                            context  \\\n",
       "0           0  Drapeau’s cohorts, the cohort would be a “vict...   \n",
       "1           1  Drapeau’s cohorts, the cohort would be a “vict...   \n",
       "2           2  Drapeau’s cohorts, the cohort would be a “vict...   \n",
       "3           3  Drapeau’s cohorts, the cohort would be a “vict...   \n",
       "4           4  Drapeau’s cohorts, the cohort would be a “vict...   \n",
       "\n",
       "                                             holding  binary_label  \\\n",
       "0  holding that possession of a pipe bomb is a cr...             1   \n",
       "1  holding that bank robbery by force and violenc...             0   \n",
       "2  holding that sexual assault of a child qualifi...             0   \n",
       "3  holding for the purposes of 18 usc  924e that ...             0   \n",
       "4  holding that a court must only look to the sta...             0   \n",
       "\n",
       "   relevance_label  \n",
       "0            1.000  \n",
       "1            0.652  \n",
       "2            0.647  \n",
       "3            0.670  \n",
       "4            0.639  "
      ]
     },
     "execution_count": 27,
     "metadata": {},
     "output_type": "execute_result"
    }
   ],
   "source": [
    "df.head(\n",
    "    \n",
    ")"
   ]
  },
  {
   "cell_type": "code",
   "execution_count": 19,
   "metadata": {},
   "outputs": [
    {
     "name": "stdout",
     "output_type": "stream",
     "text": [
      "52857\n"
     ]
    }
   ],
   "source": [
    "print(len(df))"
   ]
  },
  {
   "cell_type": "code",
   "execution_count": null,
   "metadata": {},
   "outputs": [],
   "source": []
  }
 ],
 "metadata": {
  "kernelspec": {
   "display_name": "pytorchenv",
   "language": "python",
   "name": "python3"
  },
  "language_info": {
   "codemirror_mode": {
    "name": "ipython",
    "version": 3
   },
   "file_extension": ".py",
   "mimetype": "text/x-python",
   "name": "python",
   "nbconvert_exporter": "python",
   "pygments_lexer": "ipython3",
   "version": "3.10.12"
  }
 },
 "nbformat": 4,
 "nbformat_minor": 2
}
