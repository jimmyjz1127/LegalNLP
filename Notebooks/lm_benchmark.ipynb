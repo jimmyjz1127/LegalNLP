{
 "cells": [
  {
   "cell_type": "markdown",
   "metadata": {},
   "source": [
    "# Implementation of NGram language model for benchmarking MLM task \n"
   ]
  },
  {
   "cell_type": "code",
   "execution_count": 1,
   "metadata": {},
   "outputs": [
    {
     "name": "stderr",
     "output_type": "stream",
     "text": [
      "/home/jz75/.local/lib/python3.9/site-packages/tqdm/auto.py:21: TqdmWarning: IProgress not found. Please update jupyter and ipywidgets. See https://ipywidgets.readthedocs.io/en/stable/user_install.html\n",
      "  from .autonotebook import tqdm as notebook_tqdm\n",
      "[nltk_data] Downloading package punkt to /home/jz75/nltk_data...\n",
      "[nltk_data]   Package punkt is already up-to-date!\n"
     ]
    },
    {
     "data": {
      "text/plain": [
       "True"
      ]
     },
     "execution_count": 1,
     "metadata": {},
     "output_type": "execute_result"
    }
   ],
   "source": [
    "import os\n",
    "import json\n",
    "import re\n",
    "import string\n",
    "import random\n",
    "import time\n",
    "import datetime\n",
    "import pandas as pd \n",
    "import numpy as np\n",
    "\n",
    "from functools import lru_cache\n",
    "\n",
    "import matplotlib.pyplot as plt \n",
    "from argparse import Namespace\n",
    "\n",
    "from pprint import pprint\n",
    "\n",
    "import nltk\n",
    "from nltk import FreqDist, ngrams, WittenBellProbDist, KneserNeyProbDist, SimpleGoodTuringProbDist, word_tokenize\n",
    "\n",
    "import torch \n",
    "import transformers \n",
    "from transformers import AutoTokenizer, AutoModelForMaskedLM, BertTokenizer\n",
    "\n",
    "import heapq\n",
    "\n",
    "nltk.download('punkt')"
   ]
  },
  {
   "cell_type": "code",
   "execution_count": 2,
   "metadata": {},
   "outputs": [],
   "source": [
    "args = Namespace(\n",
    "    data_path = './processed_data/sentences.csv',\n",
    "    num_samples = 10000,\n",
    "    train_split = 0.7,\n",
    ")"
   ]
  },
  {
   "cell_type": "code",
   "execution_count": 3,
   "metadata": {},
   "outputs": [],
   "source": [
    "df = pd.read_csv(args.data_path)\n",
    "df = df[:args.num_samples]\n",
    "\n",
    "df['split'] = 'train'\n",
    "num_train_rows = int(len(df) * (1 - args.train_split)//2) - 1\n",
    "df.loc[:num_train_rows, 'split'] = 'val'\n",
    "df.loc[num_train_rows:num_train_rows + num_train_rows, 'split'] = 'test'\n",
    "\n",
    "train_sents = df[df['split'] == 'train']['sentence'].tolist()\n",
    "val_sents = df[df['split'] == 'val']['sentence'].tolist()\n",
    "test_sents = df[df['split'] == 'test']['sentence'].tolist()\n"
   ]
  },
  {
   "cell_type": "code",
   "execution_count": 4,
   "metadata": {},
   "outputs": [],
   "source": [
    "def tokenize(sentence):\n",
    "    return sentence.lower().split(' ')"
   ]
  },
  {
   "cell_type": "markdown",
   "metadata": {},
   "source": [
    "### Model Implementation \n",
    "- Uses witten bell smoothing for transition probabilities \n"
   ]
  },
  {
   "cell_type": "code",
   "execution_count": 57,
   "metadata": {},
   "outputs": [],
   "source": [
    "class NGramModel():\n",
    "\n",
    "    def __init__(self,train_sents, N, smoothing_type, num_samples):\n",
    "        self.N = N\n",
    "        self.smoothing_type = smoothing_type \n",
    "        self.num_samples = num_samples\n",
    "\n",
    "        self.train_sents = self.preprocess_sentences(train_sents)\n",
    "\n",
    "        self.train_types = {w for sentence in self.train_sents for w in sentence}\n",
    "\n",
    "        self.transitions = self.init_transitions()\n",
    "\n",
    "\n",
    "    def preprocess_sentences(self, sentences):\n",
    "        sents = [] \n",
    "\n",
    "        for sentence in sentences:\n",
    "            sent = tokenize(sentence)\n",
    "            for i in range(self.N-1):sent.insert(0, '<s>')\n",
    "            sent.append('</s>')\n",
    "            sents.append(sent)\n",
    "\n",
    "        return sents\n",
    "\n",
    "\n",
    "    def init_transitions(self):\n",
    "        ''' \n",
    "            For training transition probabilities\n",
    "        '''\n",
    "\n",
    "        grams = [] \n",
    "\n",
    "        for sentence in self.train_sents:\n",
    "            grams += ngrams(sentence, self.N)\n",
    "\n",
    "        freqs = FreqDist(grams)\n",
    "        distribution = WittenBellProbDist(freqs, bins=1e8)\n",
    "\n",
    "        return distribution \n",
    "\n",
    "    def mask_elements(self, sentences, mask_prob=0.15):\n",
    "        ''' \n",
    "            \n",
    "        '''\n",
    "\n",
    "        masked_indices = []\n",
    "        for ids, sentence in enumerate(sentences):\n",
    "            random_prob = np.random.rand(len(sentence))\n",
    "\n",
    "            idt = 0\n",
    "            for element, prob in zip(sentence, random_prob):\n",
    "                if prob <= mask_prob and element not in ('<s>', '</s>'):\n",
    "                    masked_indices.append((ids, idt, element))\n",
    "                idt += 1\n",
    "                \n",
    "        return masked_indices\n",
    "\n",
    "    def predict(self, context, k):\n",
    "        context = [elem.lower() for elem in context]\n",
    "\n",
    "        # Top 5 predictions\n",
    "        return heapq.nlargest(k, [(w, self.transitions.logprob(tuple(context + [w]))) for w in self.train_types], key=lambda x:x[1])\n",
    "\n",
    "\n",
    "    def make_predictions(self, sentences, k):\n",
    "        sentences = self.preprocess_sentences(sentences)\n",
    "        masked_indices = self.mask_elements(sentences)\n",
    "\n",
    "        num_correct = 0\n",
    "        total = 0\n",
    "\n",
    "        for ids, idt, token in masked_indices:\n",
    "            context = [sentences[ids][idt-2], sentences[ids][idt-1]]\n",
    "            predictions = [w for w,_ in self.predict(context, k)]\n",
    "            if token in predictions:\n",
    "                num_correct += 1\n",
    "            total += 1\n",
    "\n",
    "        return num_correct/total\n",
    "\n",
    "    def calculate_perplexity(self, test_sents):\n",
    "        \"\"\"\n",
    "        Calculate the perplexity of the model on a set of test sentences.\n",
    "        \"\"\"\n",
    "        test_sents = self.preprocess_sentences(test_sents)\n",
    "        # masked_indices = self.mask_elements(test_sents)\n",
    "        log_probs = []\n",
    "        n = 0\n",
    "        for ids,sentence in enumerate(test_sents):\n",
    "            for idt, word in enumerate(sentence[2:]):\n",
    "                context = [test_sents[ids][idt-2], test_sents[ids][idt-1]]\n",
    "                # prediction = [w for w,_ in self.predict(context, 1)][0]\n",
    "                \n",
    "                log_probs.append(self.transitions.logprob(tuple(context +  [word])))\n",
    "                n+=1 \n",
    "\n",
    "        avg_log_prob = -np.sum(log_probs)/n\n",
    "        perplexity = 2 ** (avg_log_prob)\n",
    "        return perplexity\n",
    "\n"
   ]
  },
  {
   "cell_type": "markdown",
   "metadata": {},
   "source": [
    "### Trigram Model"
   ]
  },
  {
   "cell_type": "code",
   "execution_count": 58,
   "metadata": {},
   "outputs": [],
   "source": [
    "model = NGramModel(train_sents, 3, 'w', args.num_samples)\n"
   ]
  },
  {
   "cell_type": "code",
   "execution_count": 56,
   "metadata": {},
   "outputs": [
    {
     "name": "stdout",
     "output_type": "stream",
     "text": [
      "Top 5 accuracy : 0.5327204736678093\n"
     ]
    }
   ],
   "source": [
    "\n",
    "accuracy = model.make_predictions(test_sents, 5)\n",
    "print('Top 5 accuracy :', accuracy)"
   ]
  },
  {
   "cell_type": "code",
   "execution_count": 57,
   "metadata": {},
   "outputs": [
    {
     "name": "stdout",
     "output_type": "stream",
     "text": [
      "Top 10 accuracy : 0.5556082898275589\n"
     ]
    }
   ],
   "source": [
    "accuracy = model.make_predictions(test_sents, 10)\n",
    "print('Top 10 accuracy :', accuracy)"
   ]
  },
  {
   "cell_type": "code",
   "execution_count": null,
   "metadata": {},
   "outputs": [],
   "source": []
  },
  {
   "cell_type": "markdown",
   "metadata": {},
   "source": [
    "### Bigram Model"
   ]
  },
  {
   "cell_type": "code",
   "execution_count": 58,
   "metadata": {},
   "outputs": [],
   "source": [
    "model = NGramModel(train_sents, 2, 'w', args.num_samples)"
   ]
  },
  {
   "cell_type": "code",
   "execution_count": 59,
   "metadata": {},
   "outputs": [
    {
     "name": "stdout",
     "output_type": "stream",
     "text": [
      "Top 5 accuracy : 0.16490785950543393\n"
     ]
    }
   ],
   "source": [
    "accuracy = model.make_predictions(test_sents, 5)\n",
    "print('Top 5 accuracy :', accuracy)"
   ]
  },
  {
   "cell_type": "code",
   "execution_count": 60,
   "metadata": {},
   "outputs": [
    {
     "name": "stdout",
     "output_type": "stream",
     "text": [
      "Top 10 accuracy : 0.1612193588937775\n"
     ]
    }
   ],
   "source": [
    "accuracy = model.make_predictions(test_sents, 10)\n",
    "print('Top 10 accuracy :', accuracy)"
   ]
  }
 ],
 "metadata": {
  "kernelspec": {
   "display_name": "pytorchenv",
   "language": "python",
   "name": "python3"
  },
  "language_info": {
   "codemirror_mode": {
    "name": "ipython",
    "version": 3
   },
   "file_extension": ".py",
   "mimetype": "text/x-python",
   "name": "python",
   "nbconvert_exporter": "python",
   "pygments_lexer": "ipython3",
   "version": "3.9.18"
  }
 },
 "nbformat": 4,
 "nbformat_minor": 2
}
