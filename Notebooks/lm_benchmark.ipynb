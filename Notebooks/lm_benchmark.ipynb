{
 "cells": [
  {
   "cell_type": "markdown",
   "metadata": {},
   "source": [
    "# Implementation of NGram language model for benchmarking MLM task \n"
   ]
  },
  {
   "cell_type": "code",
   "execution_count": 1,
   "metadata": {},
   "outputs": [
    {
     "name": "stderr",
     "output_type": "stream",
     "text": [
      "[nltk_data] Downloading package punkt to /home/jz75/nltk_data...\n",
      "[nltk_data]   Package punkt is already up-to-date!\n"
     ]
    },
    {
     "data": {
      "text/plain": [
       "True"
      ]
     },
     "execution_count": 1,
     "metadata": {},
     "output_type": "execute_result"
    }
   ],
   "source": [
    "import os\n",
    "import json\n",
    "import re\n",
    "import string\n",
    "import random\n",
    "import time\n",
    "import datetime\n",
    "import pandas as pd \n",
    "import numpy as np\n",
    "\n",
    "from functools import lru_cache\n",
    "\n",
    "import matplotlib.pyplot as plt \n",
    "from argparse import Namespace\n",
    "\n",
    "from pprint import pprint\n",
    "\n",
    "import nltk\n",
    "from nltk import FreqDist, ngrams, WittenBellProbDist, KneserNeyProbDist, SimpleGoodTuringProbDist, word_tokenize\n",
    "\n",
    "import torch \n",
    "import transformers \n",
    "from transformers import AutoTokenizer, AutoModelForMaskedLM, BertTokenizer\n",
    "\n",
    "import heapq\n",
    "\n",
    "nltk.download('punkt')"
   ]
  },
  {
   "cell_type": "code",
   "execution_count": 2,
   "metadata": {},
   "outputs": [],
   "source": [
    "args = Namespace(\n",
    "    data_path = './processed_data/sentences.csv',\n",
    "    num_samples = 10000,\n",
    "    train_split = 0.7,\n",
    ")"
   ]
  },
  {
   "cell_type": "code",
   "execution_count": 3,
   "metadata": {},
   "outputs": [],
   "source": [
    "df = pd.read_csv(args.data_path)\n",
    "df = df[:args.num_samples]\n",
    "\n",
    "df['split'] = 'train'\n",
    "num_train_rows = int(len(df) * (1 - args.train_split)//2) - 1\n",
    "df.loc[:num_train_rows, 'split'] = 'val'\n",
    "df.loc[num_train_rows:num_train_rows + num_train_rows, 'split'] = 'test'\n",
    "\n",
    "train_sents = df[df['split'] == 'train']['sentence'].tolist()\n",
    "val_sents = df[df['split'] == 'val']['sentence'].tolist()\n",
    "test_sents = df[df['split'] == 'test']['sentence'].tolist()\n"
   ]
  },
  {
   "cell_type": "code",
   "execution_count": 4,
   "metadata": {},
   "outputs": [],
   "source": [
    "def tokenize(sentence):\n",
    "    return sentence.lower().split(' ')"
   ]
  },
  {
   "cell_type": "markdown",
   "metadata": {},
   "source": [
    "### Model Implementation \n",
    "- Uses witten bell smoothing for transition probabilities \n"
   ]
  },
  {
   "cell_type": "code",
   "execution_count": 28,
   "metadata": {},
   "outputs": [],
   "source": [
    "class NGramModel():\n",
    "\n",
    "    def __init__(self,train_sents, N, smoothing_type, num_samples):\n",
    "        self.N = N\n",
    "        self.smoothing_type = smoothing_type \n",
    "        self.num_samples = num_samples\n",
    "\n",
    "        self.train_sents = self.preprocess_sentences(train_sents)\n",
    "\n",
    "        self.train_types = {w for sentence in self.train_sents for w in sentence}\n",
    "\n",
    "        self.transitions = self.init_transitions()\n",
    "\n",
    "\n",
    "    def preprocess_sentences(self, sentences):\n",
    "        sents = [] \n",
    "\n",
    "        for sentence in sentences:\n",
    "            sent = tokenize(sentence)\n",
    "            for i in range(self.N-1):sent.insert(0, '<s>')\n",
    "            sent.append('</s>')\n",
    "            sents.append(sent)\n",
    "\n",
    "        return sents\n",
    "\n",
    "\n",
    "    def init_transitions(self):\n",
    "        ''' \n",
    "            For training transition probabilities\n",
    "        '''\n",
    "\n",
    "        grams = [] \n",
    "\n",
    "        for sentence in self.train_sents:\n",
    "            grams += ngrams(sentence, self.N)\n",
    "\n",
    "        freqs = FreqDist(grams)\n",
    "        distribution = WittenBellProbDist(freqs, bins=1e8)\n",
    "\n",
    "        return distribution \n",
    "\n",
    "    def mask_elements(self, sentences, mask_prob=0.15):\n",
    "        ''' \n",
    "            \n",
    "        '''\n",
    "\n",
    "        masked_indices = []\n",
    "        for ids, sentence in enumerate(sentences):\n",
    "            random_prob = np.random.rand(len(sentence))\n",
    "\n",
    "            idt = 0\n",
    "            for element, prob in zip(sentence, random_prob):\n",
    "                if prob <= mask_prob and element not in ('<s>', '</s>'):\n",
    "                    masked_indices.append((ids, idt, element))\n",
    "                idt += 1\n",
    "                \n",
    "        return masked_indices\n",
    "\n",
    "    def predict(self, context, k):\n",
    "        context = [elem.lower() for elem in context]\n",
    "\n",
    "        # Top 5 predictions\n",
    "        return heapq.nlargest(k, [(w, self.transitions.logprob(tuple(context + [w]))) for w in self.train_types], key=lambda x:x[1])\n",
    "\n",
    "\n",
    "    def make_predictions(self, sentences, k):\n",
    "        sentences = self.preprocess_sentences(sentences)\n",
    "        masked_indices = self.mask_elements(sentences)\n",
    "\n",
    "        num_correct = 0\n",
    "        total = 0\n",
    "\n",
    "        for ids, idt, token in masked_indices:\n",
    "            context = [sentences[ids][idt-2], sentences[ids][idt-1]]\n",
    "            predictions = [w for w,_ in self.predict(context, k)]\n",
    "            if token in predictions:\n",
    "                num_correct += 1\n",
    "            total += 1\n",
    "\n",
    "        return num_correct/total\n",
    "    \n",
    "    def calculate_perplexity(self, test_sents):\n",
    "        \"\"\"\n",
    "        Calculate the perplexity of the model on a set of test sentences.\n",
    "        \"\"\"\n",
    "        test_sents = self.preprocess_sentences(test_sents)\n",
    "        masked_indices = self.mask_elements(test_sents)\n",
    "        log_prob_sum = 0\n",
    "        N = 0\n",
    "\n",
    "        for ids, idt, token in masked_indices:\n",
    "            context = [test_sents[ids][idt-2], test_sents[ids][idt-1]]\n",
    "            prediction = [w for w,_ in self.predict(context, 1)][0]\n",
    "            \n",
    "            log_prob_sum -= self.transitions.logprob(tuple(context +  [prediction]))\n",
    "            N += 1\n",
    "\n",
    "        avg_log_prob = log_prob_sum / N\n",
    "        perplexity = np.exp(avg_log_prob)\n",
    "        return perplexity\n",
    "\n",
    "        # for sentence in test_sents:\n",
    "        #     sentence_ngrams = list(ngrams(sentence, self.N))\n",
    "        #     for ngram in sentence_ngrams:\n",
    "        #         context, word = ngram[:-1], ngram[-1]\n",
    "        #         # Calculate the log probability of the word given the context\n",
    "        #         # log_prob = self.transitions.logprob(word, context)\n",
    "        #         log_prob = self.transitions.logprob((context, word))\n",
    "        #         log_prob_sum -= log_prob\n",
    "        #         N += 1\n",
    "\n",
    "        # avg_log_prob = log_prob_sum / N\n",
    "        # perplexity = np.exp(avg_log_prob)\n",
    "        # return perplexity\n"
   ]
  },
  {
   "cell_type": "markdown",
   "metadata": {},
   "source": [
    "### Trigram Model"
   ]
  },
  {
   "cell_type": "code",
   "execution_count": 29,
   "metadata": {},
   "outputs": [],
   "source": [
    "model = NGramModel(train_sents, 3, 'w', args.num_samples)\n"
   ]
  },
  {
   "cell_type": "code",
   "execution_count": 56,
   "metadata": {},
   "outputs": [
    {
     "name": "stdout",
     "output_type": "stream",
     "text": [
      "Top 5 accuracy : 0.5327204736678093\n"
     ]
    }
   ],
   "source": [
    "\n",
    "accuracy = model.make_predictions(test_sents, 5)\n",
    "print('Top 5 accuracy :', accuracy)"
   ]
  },
  {
   "cell_type": "code",
   "execution_count": 57,
   "metadata": {},
   "outputs": [
    {
     "name": "stdout",
     "output_type": "stream",
     "text": [
      "Top 10 accuracy : 0.5556082898275589\n"
     ]
    }
   ],
   "source": [
    "accuracy = model.make_predictions(test_sents, 10)\n",
    "print('Top 10 accuracy :', accuracy)"
   ]
  },
  {
   "cell_type": "code",
   "execution_count": 30,
   "metadata": {},
   "outputs": [
    {
     "ename": "TypeError",
     "evalue": "unhashable type: 'list'",
     "output_type": "error",
     "traceback": [
      "\u001b[0;31m---------------------------------------------------------------------------\u001b[0m",
      "\u001b[0;31mTypeError\u001b[0m                                 Traceback (most recent call last)",
      "Cell \u001b[0;32mIn[30], line 1\u001b[0m\n\u001b[0;32m----> 1\u001b[0m perplexity \u001b[38;5;241m=\u001b[39m \u001b[43mmodel\u001b[49m\u001b[38;5;241;43m.\u001b[39;49m\u001b[43mcalculate_perplexity\u001b[49m\u001b[43m(\u001b[49m\u001b[43mtest_sents\u001b[49m\u001b[43m)\u001b[49m\n\u001b[1;32m      2\u001b[0m \u001b[38;5;28mprint\u001b[39m(perplexity)\n",
      "Cell \u001b[0;32mIn[28], line 95\u001b[0m, in \u001b[0;36mNGramModel.calculate_perplexity\u001b[0;34m(self, test_sents)\u001b[0m\n\u001b[1;32m     92\u001b[0m     context \u001b[38;5;241m=\u001b[39m [test_sents[ids][idt\u001b[38;5;241m-\u001b[39m\u001b[38;5;241m2\u001b[39m], test_sents[ids][idt\u001b[38;5;241m-\u001b[39m\u001b[38;5;241m1\u001b[39m]]\n\u001b[1;32m     93\u001b[0m     prediction \u001b[38;5;241m=\u001b[39m [w \u001b[38;5;28;01mfor\u001b[39;00m w,_ \u001b[38;5;129;01min\u001b[39;00m \u001b[38;5;28mself\u001b[39m\u001b[38;5;241m.\u001b[39mpredict(context, \u001b[38;5;241m1\u001b[39m)][\u001b[38;5;241m0\u001b[39m]\n\u001b[0;32m---> 95\u001b[0m     log_prob_sum \u001b[38;5;241m-\u001b[39m\u001b[38;5;241m=\u001b[39m \u001b[38;5;28;43mself\u001b[39;49m\u001b[38;5;241;43m.\u001b[39;49m\u001b[43mtransitions\u001b[49m\u001b[38;5;241;43m.\u001b[39;49m\u001b[43mlogprob\u001b[49m\u001b[43m(\u001b[49m\u001b[43m(\u001b[49m\u001b[43mcontext\u001b[49m\u001b[43m,\u001b[49m\u001b[43m \u001b[49m\u001b[43mprediction\u001b[49m\u001b[43m)\u001b[49m\u001b[43m)\u001b[49m\n\u001b[1;32m     96\u001b[0m     N \u001b[38;5;241m+\u001b[39m\u001b[38;5;241m=\u001b[39m \u001b[38;5;241m1\u001b[39m\n\u001b[1;32m     98\u001b[0m avg_log_prob \u001b[38;5;241m=\u001b[39m log_prob_sum \u001b[38;5;241m/\u001b[39m N\n",
      "File \u001b[0;32m~/Documents/2023-2024/SH-Project/CS4099-LegalNLP/pytorchenv/lib/python3.10/site-packages/nltk/probability.py:539\u001b[0m, in \u001b[0;36mProbDistI.logprob\u001b[0;34m(self, sample)\u001b[0m\n\u001b[1;32m    530\u001b[0m \u001b[38;5;250m\u001b[39m\u001b[38;5;124;03m\"\"\"\u001b[39;00m\n\u001b[1;32m    531\u001b[0m \u001b[38;5;124;03mReturn the base 2 logarithm of the probability for a given sample.\u001b[39;00m\n\u001b[1;32m    532\u001b[0m \n\u001b[0;32m   (...)\u001b[0m\n\u001b[1;32m    536\u001b[0m \u001b[38;5;124;03m:rtype: float\u001b[39;00m\n\u001b[1;32m    537\u001b[0m \u001b[38;5;124;03m\"\"\"\u001b[39;00m\n\u001b[1;32m    538\u001b[0m \u001b[38;5;66;03m# Default definition, in terms of prob()\u001b[39;00m\n\u001b[0;32m--> 539\u001b[0m p \u001b[38;5;241m=\u001b[39m \u001b[38;5;28;43mself\u001b[39;49m\u001b[38;5;241;43m.\u001b[39;49m\u001b[43mprob\u001b[49m\u001b[43m(\u001b[49m\u001b[43msample\u001b[49m\u001b[43m)\u001b[49m\n\u001b[1;32m    540\u001b[0m \u001b[38;5;28;01mreturn\u001b[39;00m math\u001b[38;5;241m.\u001b[39mlog(p, \u001b[38;5;241m2\u001b[39m) \u001b[38;5;28;01mif\u001b[39;00m p \u001b[38;5;241m!=\u001b[39m \u001b[38;5;241m0\u001b[39m \u001b[38;5;28;01melse\u001b[39;00m _NINF\n",
      "File \u001b[0;32m~/Documents/2023-2024/SH-Project/CS4099-LegalNLP/pytorchenv/lib/python3.10/site-packages/nltk/probability.py:1277\u001b[0m, in \u001b[0;36mWittenBellProbDist.prob\u001b[0;34m(self, sample)\u001b[0m\n\u001b[1;32m   1275\u001b[0m \u001b[38;5;28;01mdef\u001b[39;00m \u001b[38;5;21mprob\u001b[39m(\u001b[38;5;28mself\u001b[39m, sample):\n\u001b[1;32m   1276\u001b[0m     \u001b[38;5;66;03m# inherit docs from ProbDistI\u001b[39;00m\n\u001b[0;32m-> 1277\u001b[0m     c \u001b[38;5;241m=\u001b[39m \u001b[38;5;28;43mself\u001b[39;49m\u001b[38;5;241;43m.\u001b[39;49m\u001b[43m_freqdist\u001b[49m\u001b[43m[\u001b[49m\u001b[43msample\u001b[49m\u001b[43m]\u001b[49m\n\u001b[1;32m   1278\u001b[0m     \u001b[38;5;28;01mreturn\u001b[39;00m c \u001b[38;5;241m/\u001b[39m (\u001b[38;5;28mself\u001b[39m\u001b[38;5;241m.\u001b[39m_N \u001b[38;5;241m+\u001b[39m \u001b[38;5;28mself\u001b[39m\u001b[38;5;241m.\u001b[39m_T) \u001b[38;5;28;01mif\u001b[39;00m c \u001b[38;5;241m!=\u001b[39m \u001b[38;5;241m0\u001b[39m \u001b[38;5;28;01melse\u001b[39;00m \u001b[38;5;28mself\u001b[39m\u001b[38;5;241m.\u001b[39m_P0\n",
      "\u001b[0;31mTypeError\u001b[0m: unhashable type: 'list'"
     ]
    }
   ],
   "source": [
    "perplexity = model.calculate_perplexity(test_sents)\n",
    "print(perplexity)"
   ]
  },
  {
   "cell_type": "code",
   "execution_count": null,
   "metadata": {},
   "outputs": [],
   "source": []
  },
  {
   "cell_type": "markdown",
   "metadata": {},
   "source": [
    "### Bigram Model"
   ]
  },
  {
   "cell_type": "code",
   "execution_count": 58,
   "metadata": {},
   "outputs": [],
   "source": [
    "model = NGramModel(train_sents, 2, 'w', args.num_samples)"
   ]
  },
  {
   "cell_type": "code",
   "execution_count": 59,
   "metadata": {},
   "outputs": [
    {
     "name": "stdout",
     "output_type": "stream",
     "text": [
      "Top 5 accuracy : 0.16490785950543393\n"
     ]
    }
   ],
   "source": [
    "accuracy = model.make_predictions(test_sents, 5)\n",
    "print('Top 5 accuracy :', accuracy)"
   ]
  },
  {
   "cell_type": "code",
   "execution_count": 60,
   "metadata": {},
   "outputs": [
    {
     "name": "stdout",
     "output_type": "stream",
     "text": [
      "Top 10 accuracy : 0.1612193588937775\n"
     ]
    }
   ],
   "source": [
    "accuracy = model.make_predictions(test_sents, 10)\n",
    "print('Top 10 accuracy :', accuracy)"
   ]
  }
 ],
 "metadata": {
  "kernelspec": {
   "display_name": "pytorchenv",
   "language": "python",
   "name": "python3"
  },
  "language_info": {
   "codemirror_mode": {
    "name": "ipython",
    "version": 3
   },
   "file_extension": ".py",
   "mimetype": "text/x-python",
   "name": "python",
   "nbconvert_exporter": "python",
   "pygments_lexer": "ipython3",
   "version": "3.10.12"
  }
 },
 "nbformat": 4,
 "nbformat_minor": 2
}
