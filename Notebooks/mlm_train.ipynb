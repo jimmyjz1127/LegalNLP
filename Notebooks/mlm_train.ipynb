{
 "cells": [
  {
   "cell_type": "code",
   "execution_count": 2,
   "metadata": {},
   "outputs": [],
   "source": [
    "# Standard Python Imports\n",
    "import os\n",
    "import json\n",
    "import re\n",
    "import string\n",
    "import random\n",
    "import time\n",
    "import datetime\n",
    "import matplotlib.pyplot as plt\n",
    "\n",
    "# Extra non-standard utilities\n",
    "from argparse import Namespace\n",
    "from collections import Counter\n",
    "from tqdm.notebook import tqdm\n",
    "# import datasets\n",
    "\n",
    "# Data management and Math imports\n",
    "import numpy as np\n",
    "import pandas as pd\n",
    "\n",
    "# Torch Imports\n",
    "import torch\n",
    "import torch.nn as nn\n",
    "import torch.nn.functional as F\n",
    "import torch.optim as optim\n",
    "from torch.utils.data import Dataset, DataLoader, TensorDataset\n",
    "\n",
    "\n",
    "# Hugging Face Imports\n",
    "from transformers import BertTokenizer, BertForMaskedLM, BertConfig, AdamW, logging\n",
    "from transformers import DataCollatorForLanguageModeling\n",
    "from transformers import get_linear_schedule_with_warmup\n",
    "from transformers import Trainer, TrainingArguments\n",
    "from transformers import AutoTokenizer, AutoModelForMaskedLM\n",
    "from transformers import pipeline\n",
    "from transformers import EvalPrediction\n",
    "\n",
    "from sklearn.metrics import accuracy_score, precision_recall_fscore_support\n",
    "\n",
    "import math"
   ]
  },
  {
   "cell_type": "code",
   "execution_count": 3,
   "metadata": {},
   "outputs": [],
   "source": [
    "logging.set_verbosity_error()"
   ]
  },
  {
   "cell_type": "markdown",
   "metadata": {},
   "source": [
    "## Pre-Configuration \n"
   ]
  },
  {
   "cell_type": "code",
   "execution_count": 4,
   "metadata": {},
   "outputs": [],
   "source": [
    "args = Namespace(\n",
    "    # model_save_path = \"./models/mlm_model_manual1\",\n",
    "    model_save_path = \"./models/base_mlm_test\", # where to save model \n",
    "    data_filepath = './processed_data/sentences.csv', # path do training corpus (do not change)\n",
    "    train_split = 0.7, # train split (val and test are split evenly among remaining samples)\n",
    "    num_samples = 15000, # total number of samples \n",
    "    batch_size=16, \n",
    "    learn_rate=3e-5,\n",
    "    epochs=5,\n",
    "    device='cpu',\n",
    "    patience=3, # patience of early stopping mechanism\n",
    "    freeze=True # whether to freeze encoder weights or not \n",
    ")"
   ]
  },
  {
   "cell_type": "code",
   "execution_count": 5,
   "metadata": {},
   "outputs": [
    {
     "data": {
      "text/html": [
       "<div>\n",
       "<style scoped>\n",
       "    .dataframe tbody tr th:only-of-type {\n",
       "        vertical-align: middle;\n",
       "    }\n",
       "\n",
       "    .dataframe tbody tr th {\n",
       "        vertical-align: top;\n",
       "    }\n",
       "\n",
       "    .dataframe thead th {\n",
       "        text-align: right;\n",
       "    }\n",
       "</style>\n",
       "<table border=\"1\" class=\"dataframe\">\n",
       "  <thead>\n",
       "    <tr style=\"text-align: right;\">\n",
       "      <th></th>\n",
       "      <th>Unnamed: 0</th>\n",
       "      <th>sentence</th>\n",
       "      <th>split</th>\n",
       "    </tr>\n",
       "  </thead>\n",
       "  <tbody>\n",
       "    <tr>\n",
       "      <th>0</th>\n",
       "      <td>0</td>\n",
       "      <td>(c) Roth IRA's.--Paragraph (4) of section 408A...</td>\n",
       "      <td>val</td>\n",
       "    </tr>\n",
       "    <tr>\n",
       "      <th>1</th>\n",
       "      <td>1</td>\n",
       "      <td>For example, the State Constitution provides t...</td>\n",
       "      <td>val</td>\n",
       "    </tr>\n",
       "    <tr>\n",
       "      <th>2</th>\n",
       "      <td>2</td>\n",
       "      <td>See Capco of Summerville, Inc. v. J.H.</td>\n",
       "      <td>val</td>\n",
       "    </tr>\n",
       "    <tr>\n",
       "      <th>3</th>\n",
       "      <td>3</td>\n",
       "      <td>New York - Mother Terrorizing Family</td>\n",
       "      <td>val</td>\n",
       "    </tr>\n",
       "    <tr>\n",
       "      <th>4</th>\n",
       "      <td>4</td>\n",
       "      <td>at 701 (&lt;HOLDING&gt;); see also United Parcel Ser...</td>\n",
       "      <td>val</td>\n",
       "    </tr>\n",
       "  </tbody>\n",
       "</table>\n",
       "</div>"
      ],
      "text/plain": [
       "   Unnamed: 0                                           sentence split\n",
       "0           0  (c) Roth IRA's.--Paragraph (4) of section 408A...   val\n",
       "1           1  For example, the State Constitution provides t...   val\n",
       "2           2             See Capco of Summerville, Inc. v. J.H.   val\n",
       "3           3               New York - Mother Terrorizing Family   val\n",
       "4           4  at 701 (<HOLDING>); see also United Parcel Ser...   val"
      ]
     },
     "execution_count": 5,
     "metadata": {},
     "output_type": "execute_result"
    }
   ],
   "source": [
    "# Load in data\n",
    "\n",
    "raw_data_df = pd.read_csv(args.data_filepath)\n",
    "\n",
    "\n",
    "raw_data_df['split'] = 'train'\n",
    "num_train_rows = int(len(raw_data_df) * (1 - args.train_split)//2) - 1\n",
    "raw_data_df.loc[:num_train_rows, 'split'] = 'val'\n",
    "raw_data_df.loc[num_train_rows:num_train_rows + num_train_rows, 'split'] = 'test'\n",
    "raw_data_df.head()"
   ]
  },
  {
   "cell_type": "code",
   "execution_count": 6,
   "metadata": {},
   "outputs": [
    {
     "name": "stdout",
     "output_type": "stream",
     "text": [
      "Number of train samples : 9986\n",
      "Number of val samples : 2138\n",
      "Number of test samples : 2139\n"
     ]
    }
   ],
   "source": [
    "print('Number of train samples : ' + str((raw_data_df['split'] == 'train').sum()))\n",
    "print('Number of val samples : ' + str((raw_data_df['split'] == 'val').sum()))\n",
    "print('Number of test samples : ' + str((raw_data_df['split'] == 'test').sum()))"
   ]
  },
  {
   "cell_type": "code",
   "execution_count": 7,
   "metadata": {},
   "outputs": [
    {
     "data": {
      "image/png": "[encoded data removed]",
      "text/plain": [
       "<Figure size 640x480 with 1 Axes>"
      ]
     },
     "metadata": {},
     "output_type": "display_data"
    }
   ],
   "source": [
    "lengths = []\n",
    "for index, row in raw_data_df.iterrows():\n",
    "    lengths.append(len(row['sentence']))\n",
    "\n",
    "plt.hist(lengths)\n",
    "plt.xlabel('# of Characters')\n",
    "plt.ylabel('# of Sentences')\n",
    "plt.title('MLM Dataset Sentence Length Distribution')\n",
    "plt.show()"
   ]
  },
  {
   "cell_type": "code",
   "execution_count": 8,
   "metadata": {},
   "outputs": [],
   "source": [
    "tokenizer = BertTokenizer.from_pretrained('casehold/legalbert')"
   ]
  },
  {
   "cell_type": "code",
   "execution_count": 9,
   "metadata": {},
   "outputs": [],
   "source": [
    "'''\n",
    "    data collator will replace 15% of tokens with [MASK] token uniformly\n",
    "'''\n",
    "data_collator = DataCollatorForLanguageModeling(\n",
    "    tokenizer=tokenizer, mlm=True, mlm_probability=0.15\n",
    ")"
   ]
  },
  {
   "cell_type": "code",
   "execution_count": 10,
   "metadata": {},
   "outputs": [],
   "source": [
    "def encode_texts(texts):\n",
    "    return tokenizer(texts, padding=True, truncation=True, max_length=512, return_tensors=\"pt\")"
   ]
  },
  {
   "cell_type": "code",
   "execution_count": 11,
   "metadata": {},
   "outputs": [
    {
     "data": {
      "text/plain": [
       "4277    '';\\n            (2) in section 16133(a) by in...\n",
       "4278    Prohibits a Member from administering the oath...\n",
       "4279    ``(2) Administration.--The land added as wilde...\n",
       "4280    § 6323(a), leave which is never afforded to no...\n",
       "4281    ``(f) Avoidance of Wildlife Impacts and Mitiga...\n",
       "Name: sentence, dtype: object"
      ]
     },
     "execution_count": 11,
     "metadata": {},
     "output_type": "execute_result"
    }
   ],
   "source": [
    "x = raw_data_df[raw_data_df['split'] == 'train']['sentence']\n",
    "x.head()"
   ]
  },
  {
   "cell_type": "markdown",
   "metadata": {},
   "source": [
    "### Prepare data splits "
   ]
  },
  {
   "cell_type": "code",
   "execution_count": 12,
   "metadata": {},
   "outputs": [],
   "source": [
    "encoded_data_train = [tokenizer(t) for t in raw_data_df[raw_data_df['split'] == 'train']['sentence'].tolist()]\n",
    "dataloader_train = DataLoader(encoded_data_train, collate_fn=data_collator, batch_size=8)\n",
    "\n",
    "encoded_data_val = [tokenizer(t) for t in raw_data_df[raw_data_df['split'] == 'val']['sentence'].tolist()]\n",
    "dataloader_val = DataLoader(encoded_data_val, collate_fn=data_collator, batch_size=8)\n",
    "\n",
    "encoded_data_test = [tokenizer(t) for t in raw_data_df[raw_data_df['split'] == 'test']['sentence'].tolist()]\n",
    "dataloader_test = DataLoader(encoded_data_test, collate_fn=data_collator, batch_size=8)\n",
    "\n"
   ]
  },
  {
   "cell_type": "code",
   "execution_count": 13,
   "metadata": {},
   "outputs": [],
   "source": [
    "def calculate_accuracy(preds, labels):\n",
    "    pred_flat = np.argmax(preds, axis=1).flatten()\n",
    "    labels_flat = labels.flatten()\n",
    "    return np.sum(pred_flat == labels_flat) / len(labels_flat)"
   ]
  },
  {
   "cell_type": "markdown",
   "metadata": {},
   "source": [
    "### Set up training"
   ]
  },
  {
   "cell_type": "code",
   "execution_count": 15,
   "metadata": {},
   "outputs": [
    {
     "name": "stderr",
     "output_type": "stream",
     "text": [
      "/home/jz75/Documents/2023-2024/SH-Project/CS4099-LegalNLP/pytorchenv/lib/python3.10/site-packages/transformers/optimization.py:429: FutureWarning: This implementation of AdamW is deprecated and will be removed in a future version. Use the PyTorch implementation torch.optim.AdamW instead, or set `no_deprecation_warning=True` to disable this warning\n",
      "  warnings.warn(\n"
     ]
    }
   ],
   "source": [
    "model = BertForMaskedLM.from_pretrained('casehold/legalbert')\n",
    "# model = AutoModelForMaskedLM.from_pretrained(\"./models/sentence_pair_classification\")\n",
    "\n",
    "if args.freeze:\n",
    "    for param in model.base_model.parameters():\n",
    "        param.requires_grad  = False\n",
    "        model.classifier = torch.nn.Linear(model.config.hidden_size, 2)\n",
    "\n",
    "device = torch.device(\"cuda\" if torch.cuda.is_available() else \"cpu\")\n",
    "model.to(device)\n",
    "\n",
    "optimizer = AdamW(model.parameters(), lr=args.learn_rate)\n",
    "\n",
    "if args.freeze:\n",
    "    optimizer = AdamW(model.classifier.parameters(), lr=args.learn_rate)\n",
    "\n",
    "num_train_steps = len(dataloader_train) * args.epochs\n",
    "num_warmup_steps = num_train_steps * 0.1\n",
    "\n",
    "scheduler = get_linear_schedule_with_warmup(optimizer, num_warmup_steps=num_warmup_steps, num_training_steps=num_train_steps)"
   ]
  },
  {
   "cell_type": "code",
   "execution_count": 16,
   "metadata": {},
   "outputs": [
    {
     "data": {
      "application/vnd.jupyter.widget-view+json": {
       "model_id": "0c048600edcc47d99c5cb5ec6cb00626",
       "version_major": 2,
       "version_minor": 0
      },
      "text/plain": [
       "Train Batches: 0it [00:00, ?it/s]"
      ]
     },
     "metadata": {},
     "output_type": "display_data"
    },
    {
     "data": {
      "application/vnd.jupyter.widget-view+json": {
       "model_id": "38a565fe32514db589c9d960daa61568",
       "version_major": 2,
       "version_minor": 0
      },
      "text/plain": [
       "Validation Batches: 0it [00:00, ?it/s]"
      ]
     },
     "metadata": {},
     "output_type": "display_data"
    },
    {
     "data": {
      "application/vnd.jupyter.widget-view+json": {
       "model_id": "7f2fd51b39ca4a15ae7215d491c4f091",
       "version_major": 2,
       "version_minor": 0
      },
      "text/plain": [
       "Epoch:   0%|          | 0/5 [00:00<?, ?it/s]"
      ]
     },
     "metadata": {},
     "output_type": "display_data"
    },
    {
     "name": "stdout",
     "output_type": "stream",
     "text": [
      "Epoch 0: Average Training Loss: 1.9392219766843215\n",
      "Epoch 0: Validation Accuracy: 0.6550313271026114\n",
      "Validation accuracy improved from 0.0 to 0.6550313271026114. Saving model...\n",
      "Epoch 1: Average Training Loss: 1.9426001813814486\n",
      "Epoch 1: Validation Accuracy: 0.6529013129757412\n",
      "Epoch 2: Average Training Loss: 1.9020520605451112\n",
      "Epoch 2: Validation Accuracy: 0.6518240220733543\n",
      "Epoch 3: Average Training Loss: 1.9107726063367556\n",
      "Epoch 3: Validation Accuracy: 0.6469633390209568\n",
      "Early stopping triggered.\n"
     ]
    }
   ],
   "source": [
    "train_progress = tqdm(total=0, desc='Train Batches', leave=True)\n",
    "validation_progress = tqdm(total=0, desc='Validation Batches', leave=True)\n",
    "epoch_progress = tqdm(total=args.epochs, desc='Epoch', leave=True)\n",
    "\n",
    "best_val_accuracy = 0.0\n",
    "patience = 3\n",
    "num_epochs_no_improvement = 0\n",
    "\n",
    "loss_fn = torch.nn.CrossEntropyLoss(ignore_index=-100)\n",
    "for epoch in range(args.epochs):\n",
    "\n",
    "    total_train_loss = 0\n",
    "    total_train_accuracy = 0\n",
    "\n",
    "    train_progress.reset(total=len(dataloader_train))\n",
    "    validation_progress.reset(total=len(dataloader_val))\n",
    "    for step,batch in enumerate(dataloader_train):\n",
    "        optimizer.zero_grad()\n",
    "\n",
    "        input_ids = batch['input_ids'].to(device)\n",
    "        input_mask = batch['attention_mask'].to(device)\n",
    "        labels = batch['labels'].to(device)\n",
    "\n",
    "        outputs = model(input_ids, token_type_ids=None, attention_mask=input_mask, labels=labels)\n",
    "        loss = outputs.loss\n",
    "        total_train_loss += loss.item()\n",
    "        loss.backward()\n",
    "\n",
    "        logits = outputs.logits.detach().cpu().numpy()\n",
    "        label_ids = labels.to('cpu').numpy()\n",
    "        total_train_accuracy += calculate_accuracy(logits, labels)\n",
    "\n",
    "        optimizer.step()\n",
    "        scheduler.step()\n",
    "\n",
    "        train_progress.update(1)\n",
    "\n",
    "    avg_train_loss = total_train_loss/len(dataloader_train)\n",
    "    print(f'Epoch {epoch}: Average Training Loss: {avg_train_loss}')\n",
    "    \n",
    "    model.eval()\n",
    "    total_eval_accuracy = 0\n",
    "    total_eval_loss = 0\n",
    "\n",
    "    for batch in dataloader_val:\n",
    "        # Extract inputs, attention mask, and labels from batch\n",
    "        input_ids = batch['input_ids'].to(device)\n",
    "        input_mask = batch['attention_mask'].to(device)\n",
    "        labels = batch['labels'].to(device)\n",
    "\n",
    "        with torch.no_grad():\n",
    "            outputs = model(input_ids, token_type_ids=None, attention_mask=input_mask)\n",
    "        \n",
    "        logits = outputs.logits.view(-1, outputs.logits.size(-1)) # raw predictions\n",
    "        labels = labels.view(-1)\n",
    "        loss = loss_fn(logits, labels)\n",
    "\n",
    "        total_eval_loss += loss\n",
    "\n",
    "        predicted_token_indices = torch.argmax(logits, dim=-1)\n",
    "        mask = labels != -100\n",
    "        relevant_labels = labels[mask]\n",
    "        relevant_predictions = predicted_token_indices[mask]\n",
    "\n",
    "        accuracy = (relevant_predictions == relevant_labels).float().mean().item()\n",
    "\n",
    "        total_eval_accuracy += accuracy\n",
    "\n",
    "        validation_progress.update(1)\n",
    "\n",
    "    avg_val_accuracy = total_eval_accuracy/len(dataloader_val)\n",
    "    print(f'Epoch {epoch}: Validation Accuracy: {avg_val_accuracy}')\n",
    "\n",
    "    # Checkpointing and Early Stopping\n",
    "    if avg_val_accuracy > best_val_accuracy:\n",
    "        print(f'Validation accuracy improved from {best_val_accuracy} to {avg_val_accuracy}. Saving model...')\n",
    "        best_val_accuracy = avg_val_accuracy\n",
    "        num_epochs_no_improvement = 0\n",
    "        # Save the model using save_pretrained\n",
    "        model.save_pretrained(args.model_save_path)\n",
    "        # Optionally save the tokenizer if it's being fine-tuned or used\n",
    "        # tokenizer.save_pretrained(checkpoint_path)\n",
    "    else:\n",
    "        num_epochs_no_improvement += 1\n",
    "        if num_epochs_no_improvement >= args.patience:\n",
    "            print(\"Early stopping triggered.\")\n",
    "            break  # Exit the training loop\n",
    "\n",
    "    epoch_progress.update(1)\n",
    "\n",
    "        \n",
    "\n",
    "\n",
    "\n"
   ]
  },
  {
   "cell_type": "code",
   "execution_count": 14,
   "metadata": {},
   "outputs": [],
   "source": [
    "model.save_pretrained(args.model_save_path)"
   ]
  },
  {
   "cell_type": "markdown",
   "metadata": {},
   "source": [
    "## Testing + Evaluation"
   ]
  },
  {
   "cell_type": "code",
   "execution_count": 15,
   "metadata": {},
   "outputs": [
    {
     "name": "stdout",
     "output_type": "stream",
     "text": [
      ">>> the opening words of section 3 ( 1 ) of the 1934 act provided that the 1923 act was to apply for the purpose of enabling a person holding a licence under this act to acquire such ancillary rights as may be required for the exercise of the rights granted by the licence, and shall have effect accordingly.\n",
      ">>> the opening words of section 3 ( 1 ) of the 1934 act provided that the 1923 act was to apply for the purpose of enabling a person holding a license under this act to acquire such ancillary rights as may be required for the exercise of the rights granted by the licence, and shall have effect accordingly.\n",
      ">>> the opening words of section 3 ( 1 ) of the 1934 act provided that the 1923 act was to apply for the purpose of enabling a person holding a permit under this act to acquire such ancillary rights as may be required for the exercise of the rights granted by the licence, and shall have effect accordingly.\n",
      ">>> the opening words of section 3 ( 1 ) of the 1934 act provided that the 1923 act was to apply for the purpose of enabling a person holding a patent under this act to acquire such ancillary rights as may be required for the exercise of the rights granted by the licence, and shall have effect accordingly.\n",
      ">>> the opening words of section 3 ( 1 ) of the 1934 act provided that the 1923 act was to apply for the purpose of enabling a person holding a registration under this act to acquire such ancillary rights as may be required for the exercise of the rights granted by the licence, and shall have effect accordingly.\n",
      ">>> the opening words of section 3 ( 1 ) of the 1934 act provided that the 1923 act was to apply for the purpose of enabling a person holding a warrant under this act to acquire such ancillary rights as may be required for the exercise of the rights granted by the licence, and shall have effect accordingly.\n",
      ">>> the opening words of section 3 ( 1 ) of the 1934 act provided that the 1923 act was to apply for the purpose of enabling a person holding a mortgage under this act to acquire such ancillary rights as may be required for the exercise of the rights granted by the licence, and shall have effect accordingly.\n",
      ">>> the opening words of section 3 ( 1 ) of the 1934 act provided that the 1923 act was to apply for the purpose of enabling a person holding a franchise under this act to acquire such ancillary rights as may be required for the exercise of the rights granted by the licence, and shall have effect accordingly.\n",
      ">>> the opening words of section 3 ( 1 ) of the 1934 act provided that the 1923 act was to apply for the purpose of enabling a person holding a right under this act to acquire such ancillary rights as may be required for the exercise of the rights granted by the licence, and shall have effect accordingly.\n",
      ">>> the opening words of section 3 ( 1 ) of the 1934 act provided that the 1923 act was to apply for the purpose of enabling a person holding a licenses under this act to acquire such ancillary rights as may be required for the exercise of the rights granted by the licence, and shall have effect accordingly.\n"
     ]
    }
   ],
   "source": [
    "text1 = 'Yet they lie wholly outside the scope of Parliamentary [MASK].' #law\n",
    "\n",
    "text2 = 'The opening words of section 3(1) of the 1934 Act provided that the 1923 Act was to apply for the purpose of enabling a person holding a [MASK] under this Act to acquire such ancillary rights as may be required for the exercise of the rights granted by the licence, and shall have effect accordingly.' # license\n",
    "\n",
    "mlm_model = AutoModelForMaskedLM.from_pretrained(args.model_save_path)\n",
    "\n",
    "pipeline_model = pipeline('fill-mask', model=mlm_model, tokenizer=tokenizer, top_k=10)\n",
    "\n",
    "result = pipeline_model(text2)\n",
    "\n",
    "for pred in result:\n",
    "    print(f\">>> {pred['sequence']}\")"
   ]
  },
  {
   "cell_type": "code",
   "execution_count": 17,
   "metadata": {},
   "outputs": [],
   "source": [
    "def evaluate_mlm_perplexity(model_path, title):\n",
    "    '''\n",
    "        Routine for evaluating model on test split \n",
    "    '''\n",
    "    loss_fn = torch.nn.CrossEntropyLoss(ignore_index=-100)\n",
    "\n",
    "    # Load model \n",
    "    test_model = AutoModelForMaskedLM.from_pretrained(model_path)\n",
    "\n",
    "    # tokenizer = BertTokenizer.from_pretrained(tokenizer_path)\n",
    "\n",
    "    device = 'cpu'\n",
    "    if torch.cuda.is_available():\n",
    "        device = 'cuda'\n",
    "    \n",
    "    test_model.to(device)\n",
    "\n",
    "    test_model.eval()\n",
    "\n",
    "    losses = []\n",
    "\n",
    "    with torch.no_grad():\n",
    "        for batch in dataloader_test:\n",
    "            input_ids = batch['input_ids'].to(device)\n",
    "            input_mask = batch['attention_mask'].to(device)\n",
    "            labels = batch['labels'].to(device)\n",
    "\n",
    "            outputs = test_model(input_ids, token_type_ids=None, attention_mask=input_mask)\n",
    "\n",
    "            logits = outputs.logits.view(-1, outputs.logits.size(-1))\n",
    "            labels = labels.view(-1)\n",
    "            loss = loss_fn(logits, labels) \n",
    "\n",
    "            losses.append(loss.unsqueeze(0))\n",
    "\n",
    "        \n",
    "        losses = torch.cat(losses)\n",
    "        try:\n",
    "            perplexity = math.exp(torch.mean(losses))\n",
    "        except OverflowError:\n",
    "            perplexity = float('inf')\n",
    "        print(title, f\"Perplexity: {perplexity}\")\n",
    "        \n",
    "\n",
    "            \n"
   ]
  },
  {
   "cell_type": "code",
   "execution_count": 18,
   "metadata": {},
   "outputs": [],
   "source": [
    "def evaluate_mlm_accuracy(model_path, title, k=5):\n",
    "    '''\n",
    "        Routine for evaluating model on test split \n",
    "    '''\n",
    "\n",
    "    # Load model \n",
    "    test_model = AutoModelForMaskedLM.from_pretrained(model_path)\n",
    "\n",
    "    device = 'cpu'\n",
    "    if torch.cuda.is_available():\n",
    "        device = 'cuda'\n",
    "    \n",
    "    test_model.to(device)\n",
    "\n",
    "    test_model.eval()\n",
    "\n",
    "    correct_predictions = 0\n",
    "    total_samples = 0\n",
    "\n",
    "    with torch.no_grad():\n",
    "        for batch in dataloader_test:\n",
    "            input_ids = batch['input_ids'].to(device)\n",
    "            input_mask = batch['attention_mask'].to(device)\n",
    "            labels = batch['labels'].to(device)\n",
    "\n",
    "            outputs = test_model(input_ids, token_type_ids=None, attention_mask=input_mask)\n",
    "\n",
    "            logits = outputs.logits\n",
    "\n",
    "            # Get top-K predictions\n",
    "            _, top_k_indices = torch.topk(logits, k, dim=-1)\n",
    "\n",
    "            for i in range(input_ids.size(0)):  # Loop over batch\n",
    "                for j in range(input_ids.size(1)):  # Loop over sequence length\n",
    "                    if labels[i, j].item() != -100:  # Check if position is masked\n",
    "                        if labels[i, j].item() in top_k_indices[i, j].tolist():\n",
    "                            correct_predictions += 1\n",
    "                        total_samples += 1\n",
    "\n",
    "\n",
    "    top_k_accuracy = correct_predictions / total_samples\n",
    "    print(title, 'Top', k, 'Accuracy :', top_k_accuracy)\n"
   ]
  },
  {
   "cell_type": "code",
   "execution_count": 18,
   "metadata": {},
   "outputs": [
    {
     "name": "stdout",
     "output_type": "stream",
     "text": [
      "Evaluation Metrics\n",
      "====================================\n",
      "Bert Base Model Top 5 Accuracy : 0.7430977663859392\n",
      "Fine Tuned Model MLM Top 5 Accuracy : 0.8477336071585742\n",
      "Casehold LegalBert Top 5 Accuracy : 0.8219657483246463\n",
      "MLM Model Manual 1 Top 5 Accuracy : 0.8520215832655776\n",
      "\n",
      "Bert Base Model Top 10 Accuracy : 0.7825666939139482\n",
      "Fine Tuned Model MLM Top 10 Accuracy : 0.8862404395930794\n",
      "Casehold LegalBert Top 10 Accuracy : 0.8620791932374314\n",
      "MLM Model Manual 1 Top 10 Accuracy : 0.884466797871565\n",
      "\n",
      "Bert Base Model  Perplexity: 13.020986658986075\n",
      "Fine Tuned Model MLM Perplexity: 4.447846107050166\n",
      "Casehold LegalBert Perplexity: 6.734102896920245\n",
      "MLM Model Manual 1 Perplexity: 4.647554607166225\n",
      "\n"
     ]
    }
   ],
   "source": [
    "print('Evaluation Metrics')\n",
    "print('====================================')\n",
    "evaluate_mlm_accuracy('bert-base-uncased',  \"Bert Base Model\", 5)\n",
    "evaluate_mlm_accuracy(args.model_save_path,  \"Fine Tuned Model MLM\", 5)\n",
    "# evaluate_mlm_accuracy(\"models/casehold_mlm\",  \"Fine Tuned Model MLM+SPC\", 5)\n",
    "evaluate_mlm_accuracy(\"casehold/legalbert\",  \"Casehold LegalBert\", 5)\n",
    "# evaluate_mlm_accuracy(\"./models/mlm_model\",  \"MLM Model1\", 5)\n",
    "evaluate_mlm_accuracy('./models/mlm_model_manual1', 'MLM Model Manual 1', 5)\n",
    "print()\n",
    "evaluate_mlm_accuracy('bert-base-uncased',  \"Bert Base Model\", 10)\n",
    "evaluate_mlm_accuracy(args.model_save_path,  \"Fine Tuned Model MLM\", 10)\n",
    "# evaluate_mlm_accuracy(\"models/casehold_mlm\",  \"Fine Tuned Model MLM+SPC\", 10)\n",
    "evaluate_mlm_accuracy(\"casehold/legalbert\",  \"Casehold LegalBert\", 10)\n",
    "# evaluate_mlm_accuracy(\"./models/mlm_model\",  \"MLM Model1\", 10)\n",
    "evaluate_mlm_accuracy('./models/mlm_model_manual1', 'MLM Model Manual 1', 10)\n",
    "print()\n",
    "evaluate_mlm_perplexity(\"bert-base-uncased\", \"Bert Base Model \")\n",
    "evaluate_mlm_perplexity(args.model_save_path, \"Fine Tuned Model MLM\")\n",
    "# evaluate_mlm_perplexity(\"models/casehold_mlm\",  \"Fine Tuned Model MLM+SPC\")\n",
    "evaluate_mlm_perplexity(\"casehold/legalbert\",  \"Casehold LegalBert\")\n",
    "# evaluate_mlm_perplexity(\"./models/mlm_model\",  \"MLM Model1\")\n",
    "evaluate_mlm_perplexity('./models/mlm_model_manual1', 'MLM Model Manual 1')\n",
    "print()\n"
   ]
  },
  {
   "cell_type": "code",
   "execution_count": 3,
   "metadata": {},
   "outputs": [],
   "source": [
    "top_5_acc_data = {\n",
    "    'Fine-Tuned Model' : 84.77,\n",
    "    'bert-base-uncased' : 74.32,\n",
    "    'casehold/legalbert' : 82.20,\n",
    "    'Trigram Model' : 53.27 \n",
    "}\n",
    "\n",
    "top_10_acc_data = {\n",
    "    'Fine-Tuned Model' : 88.62,\n",
    "    'bert-base-uncased' : 78.26,\n",
    "    'casehold/legalbert' : 86.20,\n",
    "    'Trigram Model' : 55.56\n",
    "}\n",
    "\n",
    "perplex_data = {\n",
    "    'Fine-Tuned Model' : 4.45,\n",
    "    'bert-base-uncased' : 13.02,\n",
    "    'casehold/legalbert' : 6.73\n",
    "}"
   ]
  },
  {
   "cell_type": "code",
   "execution_count": 2,
   "metadata": {},
   "outputs": [],
   "source": [
    "def bar_plot(data, xlabel, ylabel, title):\n",
    "    plt.bar(data.keys(), data.values())\n",
    "    plt.title(title)\n",
    "    plt.xlabel(xlabel)\n",
    "    plt.ylabel(ylabel)\n",
    "    plt.show()"
   ]
  },
  {
   "cell_type": "code",
   "execution_count": null,
   "metadata": {},
   "outputs": [],
   "source": [
    "bar_plot(top_5_acc_data, 'BERT Models')"
   ]
  }
 ],
 "metadata": {
  "kernelspec": {
   "display_name": "pytorchenv",
   "language": "python",
   "name": "python3"
  },
  "language_info": {
   "codemirror_mode": {
    "name": "ipython",
    "version": 3
   },
   "file_extension": ".py",
   "mimetype": "text/x-python",
   "name": "python",
   "nbconvert_exporter": "python",
   "pygments_lexer": "ipython3",
   "version": "3.10.12"
  }
 },
 "nbformat": 4,
 "nbformat_minor": 2
}
