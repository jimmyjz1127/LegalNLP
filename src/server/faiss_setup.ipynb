{
 "cells": [
  {
   "cell_type": "code",
   "execution_count": 8,
   "metadata": {},
   "outputs": [],
   "source": [
    "import pandas as pd\n",
    "import numpy as np\n",
    "import torch\n",
    "from transformers import BertTokenizer, BertModel\n",
    "import faiss\n",
    "\n",
    "from tqdm.notebook import tqdm\n",
    "\n",
    "import os\n",
    "import sys\n",
    "import json\n",
    "import re\n",
    "import string\n",
    "import random\n",
    "import time\n",
    "import datetime\n",
    "import copy\n",
    "import pickle\n",
    "\n",
    "from argparse import Namespace"
   ]
  },
  {
   "cell_type": "code",
   "execution_count": 9,
   "metadata": {},
   "outputs": [],
   "source": [
    "args = Namespace(\n",
    "    data_path = './corpus.csv',\n",
    "    model_path='./../../Notebooks/models/parallel_combined'\n",
    ")"
   ]
  },
  {
   "cell_type": "code",
   "execution_count": 10,
   "metadata": {},
   "outputs": [],
   "source": [
    "df = pd.read_csv(args.data_path)"
   ]
  },
  {
   "cell_type": "code",
   "execution_count": 11,
   "metadata": {},
   "outputs": [],
   "source": [
    "df = df.sample(frac=1, random_state=42)\n",
    "df = df[0:10000]"
   ]
  },
  {
   "cell_type": "code",
   "execution_count": 12,
   "metadata": {},
   "outputs": [
    {
     "data": {
      "text/html": [
       "<div>\n",
       "<style scoped>\n",
       "    .dataframe tbody tr th:only-of-type {\n",
       "        vertical-align: middle;\n",
       "    }\n",
       "\n",
       "    .dataframe tbody tr th {\n",
       "        vertical-align: top;\n",
       "    }\n",
       "\n",
       "    .dataframe thead th {\n",
       "        text-align: right;\n",
       "    }\n",
       "</style>\n",
       "<table border=\"1\" class=\"dataframe\">\n",
       "  <thead>\n",
       "    <tr style=\"text-align: right;\">\n",
       "      <th></th>\n",
       "      <th>Unnamed: 0.1</th>\n",
       "      <th>Unnamed: 0</th>\n",
       "      <th>name</th>\n",
       "      <th>main</th>\n",
       "      <th>court</th>\n",
       "      <th>country</th>\n",
       "      <th>text</th>\n",
       "      <th>title</th>\n",
       "    </tr>\n",
       "  </thead>\n",
       "  <tbody>\n",
       "    <tr>\n",
       "      <th>16735</th>\n",
       "      <td>16949</td>\n",
       "      <td>16949</td>\n",
       "      <td>Jonathan Gibbons, administrator of Hiram Kimba...</td>\n",
       "      <td>Jonathan Gibbons, administrator of Hiram Kimba...</td>\n",
       "      <td>Illinois Supreme Court</td>\n",
       "      <td>USA</td>\n",
       "      <td>NaN</td>\n",
       "      <td>NaN</td>\n",
       "    </tr>\n",
       "    <tr>\n",
       "      <th>12346</th>\n",
       "      <td>12498</td>\n",
       "      <td>12498</td>\n",
       "      <td>Caroline C. Holden et al. v. The City of Chicago</td>\n",
       "      <td>Caroline C. Holden et al. v. The City of Chica...</td>\n",
       "      <td>Illinois Supreme Court</td>\n",
       "      <td>USA</td>\n",
       "      <td>NaN</td>\n",
       "      <td>NaN</td>\n",
       "    </tr>\n",
       "    <tr>\n",
       "      <th>12830</th>\n",
       "      <td>12992</td>\n",
       "      <td>12992</td>\n",
       "      <td>Ludwig Baker and Caroline Baker v. Augusta Young</td>\n",
       "      <td>Ludwig Baker and Caroline Baker v. Augusta You...</td>\n",
       "      <td>Illinois Supreme Court</td>\n",
       "      <td>USA</td>\n",
       "      <td>NaN</td>\n",
       "      <td>NaN</td>\n",
       "    </tr>\n",
       "    <tr>\n",
       "      <th>14453</th>\n",
       "      <td>14632</td>\n",
       "      <td>14632</td>\n",
       "      <td>The National Insurance Company v. Sidney T. We...</td>\n",
       "      <td>The National Insurance Company v. Sidney T. We...</td>\n",
       "      <td>Illinois Supreme Court</td>\n",
       "      <td>USA</td>\n",
       "      <td>NaN</td>\n",
       "      <td>NaN</td>\n",
       "    </tr>\n",
       "    <tr>\n",
       "      <th>584</th>\n",
       "      <td>592</td>\n",
       "      <td>592</td>\n",
       "      <td>James F. Stevenson v. Emma V. Stevenson</td>\n",
       "      <td>James F. Stevenson v. Emma V. Stevenson.\\nOpin...</td>\n",
       "      <td>Illinois Supreme Court</td>\n",
       "      <td>USA</td>\n",
       "      <td>NaN</td>\n",
       "      <td>NaN</td>\n",
       "    </tr>\n",
       "  </tbody>\n",
       "</table>\n",
       "</div>"
      ],
      "text/plain": [
       "       Unnamed: 0.1  Unnamed: 0  \\\n",
       "16735         16949       16949   \n",
       "12346         12498       12498   \n",
       "12830         12992       12992   \n",
       "14453         14632       14632   \n",
       "584             592         592   \n",
       "\n",
       "                                                    name  \\\n",
       "16735  Jonathan Gibbons, administrator of Hiram Kimba...   \n",
       "12346   Caroline C. Holden et al. v. The City of Chicago   \n",
       "12830   Ludwig Baker and Caroline Baker v. Augusta Young   \n",
       "14453  The National Insurance Company v. Sidney T. We...   \n",
       "584              James F. Stevenson v. Emma V. Stevenson   \n",
       "\n",
       "                                                    main  \\\n",
       "16735  Jonathan Gibbons, administrator of Hiram Kimba...   \n",
       "12346  Caroline C. Holden et al. v. The City of Chica...   \n",
       "12830  Ludwig Baker and Caroline Baker v. Augusta You...   \n",
       "14453  The National Insurance Company v. Sidney T. We...   \n",
       "584    James F. Stevenson v. Emma V. Stevenson.\\nOpin...   \n",
       "\n",
       "                        court country  text  title  \n",
       "16735  Illinois Supreme Court     USA   NaN    NaN  \n",
       "12346  Illinois Supreme Court     USA   NaN    NaN  \n",
       "12830  Illinois Supreme Court     USA   NaN    NaN  \n",
       "14453  Illinois Supreme Court     USA   NaN    NaN  \n",
       "584    Illinois Supreme Court     USA   NaN    NaN  "
      ]
     },
     "execution_count": 12,
     "metadata": {},
     "output_type": "execute_result"
    }
   ],
   "source": [
    "df.head()"
   ]
  },
  {
   "cell_type": "code",
   "execution_count": 13,
   "metadata": {},
   "outputs": [
    {
     "data": {
      "text/plain": [
       "BertModel(\n",
       "  (embeddings): BertEmbeddings(\n",
       "    (word_embeddings): Embedding(30522, 768, padding_idx=0)\n",
       "    (position_embeddings): Embedding(512, 768)\n",
       "    (token_type_embeddings): Embedding(2, 768)\n",
       "    (LayerNorm): LayerNorm((768,), eps=1e-12, elementwise_affine=True)\n",
       "    (dropout): Dropout(p=0.1, inplace=False)\n",
       "  )\n",
       "  (encoder): BertEncoder(\n",
       "    (layer): ModuleList(\n",
       "      (0-11): 12 x BertLayer(\n",
       "        (attention): BertAttention(\n",
       "          (self): BertSelfAttention(\n",
       "            (query): Linear(in_features=768, out_features=768, bias=True)\n",
       "            (key): Linear(in_features=768, out_features=768, bias=True)\n",
       "            (value): Linear(in_features=768, out_features=768, bias=True)\n",
       "            (dropout): Dropout(p=0.1, inplace=False)\n",
       "          )\n",
       "          (output): BertSelfOutput(\n",
       "            (dense): Linear(in_features=768, out_features=768, bias=True)\n",
       "            (LayerNorm): LayerNorm((768,), eps=1e-12, elementwise_affine=True)\n",
       "            (dropout): Dropout(p=0.1, inplace=False)\n",
       "          )\n",
       "        )\n",
       "        (intermediate): BertIntermediate(\n",
       "          (dense): Linear(in_features=768, out_features=3072, bias=True)\n",
       "          (intermediate_act_fn): GELUActivation()\n",
       "        )\n",
       "        (output): BertOutput(\n",
       "          (dense): Linear(in_features=3072, out_features=768, bias=True)\n",
       "          (LayerNorm): LayerNorm((768,), eps=1e-12, elementwise_affine=True)\n",
       "          (dropout): Dropout(p=0.1, inplace=False)\n",
       "        )\n",
       "      )\n",
       "    )\n",
       "  )\n",
       "  (pooler): BertPooler(\n",
       "    (dense): Linear(in_features=768, out_features=768, bias=True)\n",
       "    (activation): Tanh()\n",
       "  )\n",
       ")"
      ]
     },
     "execution_count": 13,
     "metadata": {},
     "output_type": "execute_result"
    }
   ],
   "source": [
    "# Load pre-trained BERT model and tokenizer\n",
    "tokenizer = BertTokenizer.from_pretrained('casehold/legalbert')\n",
    "model = BertModel.from_pretrained(args.model_path, output_attentions=True)\n",
    "model.eval()"
   ]
  },
  {
   "cell_type": "code",
   "execution_count": 14,
   "metadata": {},
   "outputs": [],
   "source": [
    "def generate_embeddings(text):\n",
    "    inputs = tokenizer(text, return_tensors='pt', padding=True, truncation=True, max_length=512)\n",
    "    with torch.no_grad():\n",
    "        outputs = model(**inputs, output_attentions=True)\n",
    "\n",
    "    # embeddings = outputs.last_hidden_state[:, 0, :].numpy()\n",
    "    embeddings = outputs.last_hidden_state.mean(dim=1)\n",
    "    attention_weights = outputs.attentions \n",
    "\n",
    "    tokens = tokenizer.tokenize(text)\n",
    "\n",
    "    # Determine top 10 document tokens based on attention weight \n",
    "    start_index_m = 1  # Assuming [SEP] token between query and document\n",
    "    end_index_m = start_index_m + len(tokens)\n",
    "\n",
    "    document_attention = attention_weights[-1][0, :, start_index_m:end_index_m, start_index_m:end_index_m].mean(dim=0)\n",
    "    k = min(10, len(document_attention))\n",
    "    \n",
    "    top_attentions, top_indices = torch.topk(document_attention, k)  # Get top 10 attentions and their indices\n",
    "\n",
    "    # Ensure top_indices and top_attentions are properly flattened\n",
    "    top_indices_flat = top_indices.cpu().numpy().flatten()\n",
    "    top_attentions_flat = top_attentions.cpu().numpy().flatten()\n",
    "\n",
    "\n",
    "    top_tokens_with_weights = {tokens[idx]: float(attention) for idx, attention in zip(top_indices_flat, top_attentions_flat)}\n",
    "    stringified_weights = json.dumps(top_tokens_with_weights)\n",
    "\n",
    "    return embeddings, stringified_weights\n"
   ]
  },
  {
   "cell_type": "markdown",
   "metadata": {},
   "source": [
    "## Generate the embedding lists "
   ]
  },
  {
   "cell_type": "code",
   "execution_count": 15,
   "metadata": {},
   "outputs": [
    {
     "data": {
      "text/plain": [
       "10000"
      ]
     },
     "execution_count": 15,
     "metadata": {},
     "output_type": "execute_result"
    }
   ],
   "source": [
    "# df = df.dropna(subset=['main'])\n",
    "df['main'].isnull().any()\n",
    "len(df)"
   ]
  },
  {
   "cell_type": "code",
   "execution_count": 16,
   "metadata": {},
   "outputs": [
    {
     "data": {
      "application/vnd.jupyter.widget-view+json": {
       "model_id": "a9f5933faf494ee5aa9268a696466063",
       "version_major": 2,
       "version_minor": 0
      },
      "text/plain": [
       "Train Batches:   0%|          | 0/10000 [00:00<?, ?it/s]"
      ]
     },
     "metadata": {},
     "output_type": "display_data"
    }
   ],
   "source": [
    "progress = tqdm(total=len(df), desc='Train Batches', leave=True)\n",
    "\n",
    "embeddings_list = []\n",
    "attention_list = []\n",
    "\n",
    "for i,row in df.iterrows():\n",
    "    embeddings, attention_data = generate_embeddings(row['main'])\n",
    "    embeddings_list.append(embeddings)\n",
    "    attention_list.append(attention_data)\n",
    "\n",
    "    progress.update(1)\n",
    "\n",
    "embeddings_matrix = np.concatenate(embeddings_list)\n",
    "attention_array = np.array(attention_list)"
   ]
  },
  {
   "cell_type": "markdown",
   "metadata": {},
   "source": [
    "### Build FAISS Index "
   ]
  },
  {
   "cell_type": "code",
   "execution_count": 18,
   "metadata": {},
   "outputs": [],
   "source": [
    "D = embeddings_matrix.shape[1] # dimension of embeddings \n",
    "index = faiss.IndexFlatL2(D)\n",
    "index.add(embeddings_matrix)"
   ]
  },
  {
   "cell_type": "markdown",
   "metadata": {},
   "source": [
    "### Write index and attention data to static files "
   ]
  },
  {
   "cell_type": "code",
   "execution_count": 19,
   "metadata": {},
   "outputs": [],
   "source": [
    "faiss.write_index(index, \"faiss_index_file.index\")\n",
    "np.save(\"attention.npy\", attention_array)"
   ]
  },
  {
   "cell_type": "markdown",
   "metadata": {},
   "source": []
  },
  {
   "cell_type": "markdown",
   "metadata": {},
   "source": [
    "## Search\n"
   ]
  },
  {
   "cell_type": "code",
   "execution_count": 20,
   "metadata": {},
   "outputs": [],
   "source": [
    "loaded_index = faiss.read_index(\"faiss_index_file.index\")\n",
    "loaded_metadata = np.load(\"attention.npy\", allow_pickle=True)"
   ]
  },
  {
   "cell_type": "code",
   "execution_count": 21,
   "metadata": {},
   "outputs": [],
   "source": [
    "def search(query_embedding, k=5):\n",
    "    # Perform search using cosine similarity\n",
    "    D, I = loaded_index.search(query_embedding, k)\n",
    "    return D, I\n",
    "\n",
    "def get_titles(indices):\n",
    "    # Retrieve corresponding titles from metadata\n",
    "    titles = [loaded_metadata[i] for i in indices]\n",
    "    return titles"
   ]
  },
  {
   "cell_type": "code",
   "execution_count": 22,
   "metadata": {},
   "outputs": [
    {
     "name": "stdout",
     "output_type": "stream",
     "text": [
      "Query Document:\n",
      "--------------\n",
      "Title:  {\".\": 0.26979270577430725, \",\": 0.17679546773433685, \"tax\": 0.0007339739240705967, \"the\": 0.0005150084034539759, \"of\": 0.0004657904792111367, \"transferring\": 0.008976730518043041, \"proceeds\": 0.00048569307546131313, \"to\": 0.008519104681909084, \"auditor\": 0.004310827702283859, \"merchants\": 0.004032318014651537, \"state\": 0.013412493281066418, \"revenue\": 0.014380929060280323, \"illinois\": 0.0005523016443476081, \"chicago\": 0.013388966210186481, \"savings\": 0.005269909743219614, \"accounts\": 0.00996419508010149, \"loan\": 0.002873433521017432, \"and\": 0.00892995111644268, \"trust\": 0.005016309674829245, \"company\": 0.005628583487123251, \"act\": 0.021552368998527527, \"two\": 0.0004801731847692281, \"1861\": 0.014034390449523926, \"mill\": 0.02923690527677536, \"unconstitutional\": 0.0055464175529778, \"void\": 0.008965053595602512}\n",
      "Distances: [[ 97.23409   97.91188   98.28487  102.328606 105.81323  106.93414\n",
      "  107.61917  107.87687  107.99062  108.01826 ]]\n",
      "Nearest Neighbor Titles:\n",
      "1. {\".\": 0.48806095123291016, \"individual\": 0.000784877862315625, \"money\": 0.0008107198518700898, \"deposit\": 0.000734998204279691, \",\": 0.0005031102919019759, \"the\": 0.0005945980665273964, \"of\": 0.0006001538713462651, \"cash\": 0.012159287929534912, \"that\": 0.0005008775624446571, \"bank\": 0.007495123893022537, \"president\": 0.0031743748113512993, \"directors\": 0.0027302850503474474, \"state\": 0.0012092074612155557, \"kai\": 0.0012312583858147264, \"deposits\": 0.000491199316456914, \"by\": 0.006646414753049612, \"error\": 0.003158936044201255, \"v\": 0.0029261421877890825, \"faye\": 0.0006437560659833252, \"john\": 0.0016974970931187272, \"##ier\": 0.0027688222471624613, \"in\": 0.001523469458334148, \"to\": 0.0023271646350622177, \"tho\": 0.0027244864031672478, \"receipt\": 0.010929117910563946, \"for\": 0.00964128877967596, \"an\": 0.0015949225053191185, \"-\": 0.0032422151416540146, \"is\": 0.0068903458304703236, \"evidence\": 0.005526650696992874, \"a\": 0.008642054162919521, \"right\": 0.006781938951462507}\n",
      "2. {\",\": 0.135102316737175, \".\": 0.20878547430038452, \"madison\": 0.0009076057467609644, \"james\": 0.00045695799053646624, \"justices\": 0.0009980382164940238, \"bail\": 0.0009078500443138182, \"words\": 0.0006690373993478715, \"foley\": 0.0006842731381766498, \"section\": 0.0007744794129393995, \"shall\": 0.0006303042755462229, \"to\": 0.0004448159597814083, \"v\": 0.0008586878539063036, \"in\": 0.004103055223822594, \"error\": 0.000429962674388662, \"act\": 0.0009804937290027738, \"people\": 0.000812291691545397, \"consent\": 0.000927377084735781, \"the\": 0.0018130826065316796, \"as\": 0.00012534242705442011, \"\\u201d\": 0.03413546830415726, \"of\": 0.00462316395714879, \"defining\": 0.0013577834470197558, \"which\": 0.00238077063113451, \"offense\": 0.0019234754145145416, \"law\": 0.001627489342354238, \"40th\": 0.0033214616123586893, \"supreme\": 0.00031207394204102457, \"duties\": 0.002137098228558898, \"offender\": 0.0010099872015416622, \"jurisdiction\": 0.0007695836829952896, \"but\": 0.00267859292216599, \"not\": 0.0016947127878665924, \"character\": 0.00130080443341285, \"la\": 0.0001312647946178913, \"##rce\": 0.0003534998104441911, \"plaintiff\": 0.0005445930873975158, \"can\": 0.0014662776375189424, \"is\": 0.0013089212588965893, \"by\": 0.0009877606062218547}\n",
      "3. {\",\": 0.001319484319537878, \"george\": 0.0010762965539470315, \"townsend\": 0.0004344027547631413, \"purchase\": 0.0011051349574699998, \"sale\": 0.0013158945366740227, \"portion\": 0.0017665950581431389, \"briggs\": 0.0019131802255287766, \"v\": 0.0015846077585592866, \"to\": 0.0013654140057042241, \"##yler\": 0.002553293714299798, \"lands\": 0.0015952197136357427, \"promise\": 0.0010807850630953908, \"public\": 0.0002342476655030623, \"in\": 0.001957631902769208, \"of\": 0.002164226258173585, \"##r\": 0.00039504526648670435, \"for\": 0.003650364466011524, \"made\": 0.0022093027364462614, \"the\": 0.0023352999705821276, \"sc\": 0.00015071246889419854, \"##hu\": 0.0012723394902423024, \"dick\": 0.00043628501589410007, \"pay\": 0.006175742018967867, \"tt\": 0.0004829616518691182, \".\": 0.001179589657112956, \"s\": 0.002841661451384425, \"improvements\": 0.00379346520639956, \"there\": 0.003284103237092495, \"is\": 0.0005945126176811755, \"void\": 0.0004003342182841152}\n",
      "4. {\",\": 0.2568194568157196, \"track\": 0.002586152870208025, \"legislature\": 0.0014002161333337426, \"way\": 0.0015078512951731682, \"property\": 0.0019479086622595787, \"company\": 0.002214271342381835, \"right\": 0.0001928786950884387, \"assessments\": 0.0004493115993682295, \"chicago\": 0.0004230063932482153, \"judah\": 0.00026080713723786175, \"##pee\": 0.0003752635093405843, \"cook\": 0.00023432781745214015, \"##elle\": 0.0016420994652435184, \"railway\": 0.001619705930352211, \"##ancy\": 0.0012538738083094358, \"charter\": 0.001033313455991447, \"contract\": 0.0014707614900544286, \"v\": 0.0014718570746481419, \"in\": 0.002558106556534767, \"the\": 0.007084043696522713, \"and\": 0.005975762847810984, \"of\": 0.0048286449164152145, \"as\": 0.0043014707043766975, \"city\": 0.0026342906057834625, \"street\": 0.0002059123944491148, \"a\": 0.00329143856652081, \"such\": 0.0025960688944905996, \"o\": 0.0002629778755363077, \"##cc\": 0.00041382547351531684, \"##up\": 0.0015513059915974736, \"with\": 0.010411836206912994, \"council\": 0.001474305521696806, \"liable\": 0.0015306094428524375, \"for\": 0.0026213156525045633, \"widening\": 0.012341971509158611, \"upon\": 0.002127497224137187, \"which\": 0.0017151072388514876, \"its\": 0.005028462037444115, \"from\": 0.0013854216085746884, \"proposed\": 0.0006892042583785951, \"improvement\": 0.0010205322178080678, \";\": 0.00034906272776424885, \"appeal\": 0.0009202065411955118, \"jameson\": 0.00013593066250905395, \"superior\": 0.0002609033545013517, \"court\": 0.0001671148493187502, \"assessed\": 0.00047415541484951973, \"&\": 0.0003366171440575272, \"mr\": 0.0003602883080020547, \".\": 0.0003201166691724211, \"bon\": 0.0002899295650422573, \"judge\": 0.00017413760360796005, \"presiding\": 0.0004965228145010769, \"du\": 0.0002346203982597217, \"##ellant\": 0.0004339456500019878, \"##field\": 0.0004853887658100575}\n",
      "5. {\",\": 0.1719251275062561, \"purchase\": 0.001740050851367414, \"deed\": 0.0021736223716288805, \"heirs\": 0.0017454116605222225, \"land\": 0.0022542253136634827, \"bond\": 0.0017025027191266418, \"a\": 0.006389077752828598, \"for\": 0.005756087135523558, \"to\": 0.0017839433858171105, \"wright\": 0.0005945059238001704, \"matthew\": 0.0006889442447572947, \"min\": 0.000537113519385457, \"clay\": 0.0004992902977392077, \"t\": 0.0009760731481947005, \"title\": 0.002995895454660058, \"hitchcock\": 0.00046666967682540417, \"boyle\": 0.001314602792263031, \"cope\": 0.0005322395591065288, \"sold\": 0.0011081993579864502, \"v\": 0.0010541629744693637, \"conveyed\": 0.008270934224128723, \"elizabeth\": 0.0016976111801341176, \"##elle\": 0.007734857499599457, \"passes\": 0.002278901869431138, \"previously\": 0.01065960992127657, \"but\": 0.008288450539112091, \"the\": 0.006809253245592117, \"by\": 0.008550014346837997, \"in\": 0.010517333634197712, \"and\": 0.0009887150954455137, \"when\": 0.017256783321499825, \"##see\": 0.0030362673569470644, \"##se\": 0.0011258963495492935, \"##ator\": 0.0010289447382092476, \"appeal\": 0.0009387811296619475, \"court\": 0.0033358053769916296, \"##ellant\": 0.00045515026431530714, \"circuit\": 0.0006300693494267762, \"mr\": 0.0018692392623052, \"where\": 0.0027381395921111107, \"b\": 0.0012834562221542, \"g\": 0.000937652017455548, \"f\": 0.000680126715451479, \"##r\": 0.000699081749189645, \".\": 0.0014560845447704196, \"paid\": 0.00446986174210906, \"from\": 0.004468764644116163, \"##rs\": 0.000771720428019762, \"&\": 0.00045070951455272734}\n",
      "6. {\".\": 0.351477712392807, \")\": 0.32422950863838196, \"synod\": 4.651185008697212e-05, \"building\": 7.760748121654615e-05, \"society\": 4.1792314732447267e-05, \"deed\": 2.935691736638546e-05, \"organization\": 4.633545540855266e-05, \"pontiac\": 6.926944479346275e-06, \"the\": 3.2890504371607676e-05, \"lot\": 2.710776425374206e-05, \"(\": 6.109639798523858e-05, \"from\": 4.659188198274933e-05, \"words\": 4.209913095110096e-05, \"covenant\": 2.5825420379987918e-05, \"a\": 0.0007344642071984708, \"precedent\": 8.354068086191546e-06, \"tu\": 7.422678663715487e-06, \"##elle\": 4.1211183997802436e-05, \"patton\": 9.949301784217823e-06, \"presiding\": 1.1214022379135713e-05, \"church\": 2.1775669665657915e-05, \"breach\": 5.271417830954306e-05, \"rook\": 5.847146894666366e-06, \"armstrong\": 6.967136414459674e-06, \"##ru\": 1.3005873370275367e-05, \"parties\": 1.5458472262253053e-05, \"livingston\": 9.066920756595209e-05, \"between\": 1.397990945406491e-05, \"'\": 5.980224159429781e-05, \"and\": 0.006220169831067324, \"as\": 1.6197818695218302e-05, \"in\": 6.755853246431798e-05, \"for\": 0.00039054403896443546, \";\": 0.002545915311202407, \"to\": 0.0052073681727051735, \"there\": 0.007382737472653389, \"\\u201d\": 0.006329335272312164, \",\": 0.004287864547222853, \"condition\": 0.0016209423774853349, \"of\": 0.004651253577321768, \"that\": 0.0017250273376703262, \"be\": 0.0025020900648087263, \"similar\": 0.00016916368622332811, \"part\": 0.00680804206058383, \"not\": 0.0061399973928928375, \"##es\": 0.0007362866308540106, \"lutheran\": 3.312314584036358e-05}\n",
      "7. {\".\": 0.33411920070648193, \",\": 0.0015123020857572556, \"board\": 0.0024361880496144295, \"taxes\": 0.0018253963207826018, \"new\": 0.0014557797694578767, \"v\": 0.0020277334842830896, \"organized\": 0.00336669129319489, \"property\": 0.0024014015216380358, \"revenue\": 0.0014453217154368758, \"could\": 0.003278365358710289, \"people\": 0.0017022009706124663, \"ex\": 0.0008718157187104225, \"denny\": 0.0014778892509639263, \"haste\": 0.0021158503368496895, \"re\": 0.0007872479618526995, \"assessments\": 0.001634014304727316, \"county\": 0.000535942439455539, \"thomas\": 0.0004394671705085784, \"the\": 0.012659944593906403, \"to\": 0.003254597308114171, \"review\": 0.0018693385645747185, \"of\": 0.0009767685551196337, \"cook\": 0.0008560923743061721, \"oral\": 0.0005045281141065061, \"announced\": 0.0007263183942995965, \"february\": 0.0004702129226643592, \"january\": 0.0010583383264020085, \"year\": 0.0021785609424114227, \"16\": 0.0004581653920467943, \"for\": 0.0012098135193809867, \"1899\": 0.0007233115029521286, \"had\": 0.0066924928687512875, \"not\": 0.0021050747018307447, \"act\": 0.002847654977813363, \"1898\": 0.0008562394068576396, \"power\": 0.004498205613344908, \"at\": 0.01052911952137947, \"motion\": 0.003840733552351594, \"leave\": 0.0019922310020774603, \"man\": 0.00021389250468928367, \"##dam\": 0.000380137498723343, \"petition\": 0.0007541736122220755}\n",
      "8. {\",\": 0.0004880250198766589, \"bassett\": 0.00019745533063542098, \"maker\": 0.0018391362391412258, \"pay\": 0.0009319782257080078, \"pepper\": 0.000658395467326045, \"richard\": 0.0003824145533144474, \"credits\": 0.0005549457273446023, \"v\": 0.0004646880261134356, \"the\": 0.000605467997957021, \"presiding\": 0.00017443449178244919, \"wilson\": 0.00010552554158493876, \"judge\": 0.000869401206728071, \"agreement\": 0.00033271999564021826, \"##elle\": 0.000958526972681284, \"where\": 0.0004801074683200568, \"maturity\": 0.00013051294081378728, \"transfer\": 0.0039795758202672005, \"by\": 0.0016054705483838916, \"appeal\": 0.00044939309009350836, \"to\": 0.00023506981960963458, \"note\": 0.00027863032300956547, \"##ee\": 0.0003079801390413195, \"money\": 0.0003297112707514316, \"and\": 0.012072264216840267, \"applied\": 0.005760313477367163, \"before\": 0.012194289825856686, \"should\": 0.004013556521385908, \"between\": 0.0035490356385707855, \"a\": 0.00026104351854883134, \"from\": 0.0006297077634371817, \"pro\": 0.00021325894340407103, \"on\": 0.0007432721904478967, \"##rse\": 8.014564809855074e-05, \"&\": 0.00037087497184984386, \"fore\": 0.00014336116146296263, \"##cl\": 0.00014492911577690393, \"securing\": 0.0004070372960995883, \"court\": 0.0005989656783640385, \"circuit\": 0.0004231709463056177, \"mercer\": 0.00025475758593529463, \"for\": 0.0007297653355635703, \"et\": 0.000246129697188735, \"s\": 0.00021511391969397664, \";\": 0.00022323416487779468}\n",
      "9. {\",\": 0.00015758122026454657, \")\": 0.17575037479400635, \".\": 0.1530855894088745, \"(\": 0.0010297580156475306, \"taxation\": 0.0001747223868733272, \"board\": 0.007495086640119553, \"property\": 0.00015218749467749149, \"clause\": 0.0001565504353493452, \"section\": 0.00038511279853992164, \"mo\": 0.0006041088490746915, \"patterson\": 0.0008072786149568856, \"jennings\": 0.0004742185992654413, \"review\": 0.0008504483266733587, \"charity\": 0.0016650218749418855, \"for\": 0.00015823470312170684, \"seventh\": 0.00010041769564850256, \"grand\": 0.00012285777484066784, \"masonic\": 0.0002031635376624763, \"##unda\": 0.0013831062242388725, \"composing\": 9.120159666053951e-05, \"ancient\": 9.394005610374734e-05, \"116\": 0.00030196140869520605, \"##ult\": 0.0035365193616598845, \"town\": 0.0026050095912069082, \"##rie\": 0.006199386436492205, \"##elle\": 0.0006177020841278136, \"sex\": 0.0015962956240400672, \"charge\": 0.004732976201921701, \"of\": 0.0012213425943627954, \"fact\": 0.004724755417555571, \"as\": 0.00016475604206789285, \"##ev\": 0.0032085252460092306, \"##ole\": 0.003385124960914254, \"to\": 0.005914130713790655, \"exempt\": 0.0008375220932066441, \"it\": 0.0029706608038395643, \"a\": 0.003189544193446636, \"and\": 0.008261896669864655, \"religious\": 0.0004373769916128367, \"or\": 0.002240898786112666, \"secular\": 0.0006211926811374724, \"under\": 0.010446514002978802, \"1915\": 0.00806985143572092, \"##rance\": 0.009165403433144093, \"##umb\": 0.000586478621698916, \"where\": 0.01098173763602972, \"the\": 0.0010485808597877622, \"that\": 0.004568242002278566, \"'\": 0.009664834477007389}\n"
     ]
    }
   ],
   "source": [
    "query = 'grand theft auto'\n",
    "query_tokens = tokenizer(query, return_tensors='pt', padding=True, truncation=True, max_length=512)\n",
    "query_tokens = {key: value.to('cpu') for key, value in query_tokens.items()}\n",
    "\n",
    "with torch.no_grad():\n",
    "    query_output = model(**query_tokens, output_attentions=True, output_hidden_states=True)\n",
    "    query_embedding = query_output.last_hidden_state.mean(dim=1)\n",
    "\n",
    "# Perform search\n",
    "distances, indices = search(query_embedding, 10)\n",
    "\n",
    "# Retrieve corresponding titles\n",
    "titles = get_titles(indices[0])\n",
    "\n",
    "print(\"Query Document:\")\n",
    "print(\"--------------\")\n",
    "print(\"Title: \", titles[0])  # Assuming the first returned document is the query document\n",
    "print(\"Distances:\", distances)\n",
    "print(\"Nearest Neighbor Titles:\")\n",
    "for i, title in enumerate(titles[1:], start=1):  # Skip the first title as it's the query document\n",
    "    print(f\"{i}. {title}\")"
   ]
  },
  {
   "cell_type": "code",
   "execution_count": null,
   "metadata": {},
   "outputs": [],
   "source": []
  }
 ],
 "metadata": {
  "kernelspec": {
   "display_name": "Python 3",
   "language": "python",
   "name": "python3"
  },
  "language_info": {
   "codemirror_mode": {
    "name": "ipython",
    "version": 3
   },
   "file_extension": ".py",
   "mimetype": "text/x-python",
   "name": "python",
   "nbconvert_exporter": "python",
   "pygments_lexer": "ipython3",
   "version": "3.9.18"
  }
 },
 "nbformat": 4,
 "nbformat_minor": 2
}
